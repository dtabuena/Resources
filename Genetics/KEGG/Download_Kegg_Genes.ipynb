{
  "nbformat": 4,
  "nbformat_minor": 0,
  "metadata": {
    "colab": {
      "provenance": [],
      "authorship_tag": "ABX9TyOqi2y8Vu5NCz/uZ1yeVy6n",
      "include_colab_link": true
    },
    "kernelspec": {
      "name": "python3",
      "display_name": "Python 3"
    },
    "language_info": {
      "name": "python"
    }
  },
  "cells": [
    {
      "cell_type": "markdown",
      "metadata": {
        "id": "view-in-github",
        "colab_type": "text"
      },
      "source": [
        "<a href=\"https://colab.research.google.com/github/dtabuena/Resources/blob/main/Genetics/KEGG/Download_Kegg_Genes.ipynb\" target=\"_parent\"><img src=\"https://colab.research.google.com/assets/colab-badge.svg\" alt=\"Open In Colab\"/></a>"
      ]
    },
    {
      "cell_type": "code",
      "execution_count": 1,
      "metadata": {
        "colab": {
          "base_uri": "https://localhost:8080/"
        },
        "id": "rLSJohAnljgL",
        "outputId": "2ebf1f48-d20c-4418-ca6a-0dfc1b30c295"
      },
      "outputs": [
        {
          "output_type": "stream",
          "name": "stdout",
          "text": [
            "Collecting keggtools\n",
            "  Downloading keggtools-1.0.2-py3-none-any.whl (27 kB)\n",
            "Requirement already satisfied: pydot in /usr/local/lib/python3.10/dist-packages (from keggtools) (1.4.2)\n",
            "Requirement already satisfied: requests in /usr/local/lib/python3.10/dist-packages (from keggtools) (2.31.0)\n",
            "Requirement already satisfied: scipy in /usr/local/lib/python3.10/dist-packages (from keggtools) (1.11.4)\n",
            "Requirement already satisfied: pyparsing>=2.1.4 in /usr/local/lib/python3.10/dist-packages (from pydot->keggtools) (3.1.1)\n",
            "Requirement already satisfied: charset-normalizer<4,>=2 in /usr/local/lib/python3.10/dist-packages (from requests->keggtools) (3.3.2)\n",
            "Requirement already satisfied: idna<4,>=2.5 in /usr/local/lib/python3.10/dist-packages (from requests->keggtools) (3.6)\n",
            "Requirement already satisfied: urllib3<3,>=1.21.1 in /usr/local/lib/python3.10/dist-packages (from requests->keggtools) (2.0.7)\n",
            "Requirement already satisfied: certifi>=2017.4.17 in /usr/local/lib/python3.10/dist-packages (from requests->keggtools) (2023.11.17)\n",
            "Requirement already satisfied: numpy<1.28.0,>=1.21.6 in /usr/local/lib/python3.10/dist-packages (from scipy->keggtools) (1.23.5)\n",
            "Installing collected packages: keggtools\n",
            "Successfully installed keggtools-1.0.2\n"
          ]
        }
      ],
      "source": [
        "!pip install keggtools\n",
        "import keggtools as kt\n",
        "import collections\n",
        "from tqdm import tqdm\n",
        "import itertools"
      ]
    },
    {
      "cell_type": "code",
      "source": [
        "def get_all_pathways(ORGANISM_ID: str) -> (dict, list):\n",
        "\n",
        "    resolver = kt.Resolver()\n",
        "    org_all = resolver.get_pathway_list(ORGANISM_ID)\n",
        "    path_list = list()\n",
        "    for path_key in tqdm( org_all.keys() ):\n",
        "        try:\n",
        "            path_list.append(resolver.get_pathway(organism=ORGANISM_ID, code=path_key.split(ORGANISM_ID)[-1]))\n",
        "        except: None\n",
        "    return path_list\n",
        "\n",
        "path_list = get_all_pathways(\"mmu\")\n"
      ],
      "metadata": {
        "colab": {
          "base_uri": "https://localhost:8080/"
        },
        "id": "-Y3U3S6CnSQr",
        "outputId": "b7b64536-b19e-4daa-cc53-fdc7120fb54b"
      },
      "execution_count": 2,
      "outputs": [
        {
          "output_type": "stream",
          "name": "stderr",
          "text": [
            "100%|██████████| 352/352 [07:56<00:00,  1.35s/it]\n"
          ]
        }
      ]
    },
    {
      "cell_type": "code",
      "source": [
        "\n",
        "pathway_gene_dict=dict()\n",
        "for one_pathway in tqdm(path_list):\n",
        "    entries_in_one_pathway = one_pathway.entries\n",
        "    genes_in_all_entries_in_one_pathway = [e.name.split(\" \") for e in entries_in_one_pathway if 'gene' in e.type]\n",
        "    genes_in_all_entries_in_one_pathway = list(itertools.chain.from_iterable(genes_in_all_entries_in_one_pathway))\n",
        "    path_name = one_pathway.name\n",
        "    pathway_gene_dict[path_name] = {\"title\":one_pathway.title,'genes':genes_in_all_entries_in_one_pathway}\n",
        "pathway_gene_dict.keys()"
      ],
      "metadata": {
        "colab": {
          "base_uri": "https://localhost:8080/"
        },
        "id": "ZRQ5GeXMprBa",
        "outputId": "197c1b71-2e73-4f29-ccf0-d6511b098fcc"
      },
      "execution_count": 3,
      "outputs": [
        {
          "output_type": "stream",
          "name": "stderr",
          "text": [
            "100%|██████████| 346/346 [00:00<00:00, 11265.65it/s]\n"
          ]
        },
        {
          "output_type": "execute_result",
          "data": {
            "text/plain": [
              "dict_keys(['path:mmu01200', 'path:mmu01210', 'path:mmu01212', 'path:mmu01230', 'path:mmu01232', 'path:mmu01250', 'path:mmu01240', 'path:mmu00010', 'path:mmu00020', 'path:mmu00030', 'path:mmu00040', 'path:mmu00051', 'path:mmu00052', 'path:mmu00053', 'path:mmu00500', 'path:mmu00520', 'path:mmu00620', 'path:mmu00630', 'path:mmu00640', 'path:mmu00650', 'path:mmu00562', 'path:mmu00910', 'path:mmu00920', 'path:mmu00061', 'path:mmu00062', 'path:mmu00071', 'path:mmu00100', 'path:mmu00120', 'path:mmu00140', 'path:mmu00561', 'path:mmu00564', 'path:mmu00565', 'path:mmu00600', 'path:mmu00590', 'path:mmu00591', 'path:mmu00592', 'path:mmu01040', 'path:mmu00230', 'path:mmu00240', 'path:mmu00250', 'path:mmu00260', 'path:mmu00270', 'path:mmu00290', 'path:mmu00310', 'path:mmu00220', 'path:mmu00330', 'path:mmu00340', 'path:mmu00350', 'path:mmu00360', 'path:mmu00380', 'path:mmu00400', 'path:mmu00410', 'path:mmu00430', 'path:mmu00440', 'path:mmu00450', 'path:mmu00470', 'path:mmu00480', 'path:mmu00510', 'path:mmu00513', 'path:mmu00512', 'path:mmu00515', 'path:mmu00514', 'path:mmu00532', 'path:mmu00534', 'path:mmu00533', 'path:mmu00531', 'path:mmu00563', 'path:mmu00601', 'path:mmu00603', 'path:mmu00604', 'path:mmu00511', 'path:mmu00730', 'path:mmu00740', 'path:mmu00750', 'path:mmu00760', 'path:mmu00770', 'path:mmu00780', 'path:mmu00785', 'path:mmu00790', 'path:mmu00670', 'path:mmu00830', 'path:mmu00860', 'path:mmu00130', 'path:mmu00900', 'path:mmu00232', 'path:mmu00524', 'path:mmu00980', 'path:mmu00982', 'path:mmu00983', 'path:mmu03020', 'path:mmu03022', 'path:mmu03040', 'path:mmu03010', 'path:mmu00970', 'path:mmu03013', 'path:mmu03015', 'path:mmu03008', 'path:mmu03060', 'path:mmu04141', 'path:mmu04130', 'path:mmu04120', 'path:mmu04122', 'path:mmu03050', 'path:mmu03018', 'path:mmu03030', 'path:mmu03410', 'path:mmu03420', 'path:mmu03430', 'path:mmu03440', 'path:mmu03450', 'path:mmu03460', 'path:mmu03082', 'path:mmu03083', 'path:mmu03250', 'path:mmu03260', 'path:mmu03264', 'path:mmu03265', 'path:mmu03266', 'path:mmu03267', 'path:mmu02010', 'path:mmu04010', 'path:mmu04012', 'path:mmu04014', 'path:mmu04015', 'path:mmu04310', 'path:mmu04330', 'path:mmu04340', 'path:mmu04350', 'path:mmu04390', 'path:mmu04392', 'path:mmu04370', 'path:mmu04371', 'path:mmu04630', 'path:mmu04064', 'path:mmu04668', 'path:mmu04066', 'path:mmu04068', 'path:mmu04020', 'path:mmu04070', 'path:mmu04072', 'path:mmu04071', 'path:mmu04024', 'path:mmu04022', 'path:mmu04151', 'path:mmu04152', 'path:mmu04150', 'path:mmu04080', 'path:mmu04060', 'path:mmu04061', 'path:mmu04512', 'path:mmu04514', 'path:mmu04144', 'path:mmu04145', 'path:mmu04142', 'path:mmu04146', 'path:mmu04140', 'path:mmu04136', 'path:mmu04137', 'path:mmu04148', 'path:mmu04110', 'path:mmu04114', 'path:mmu04210', 'path:mmu04215', 'path:mmu04216', 'path:mmu04217', 'path:mmu04115', 'path:mmu04218', 'path:mmu04510', 'path:mmu04520', 'path:mmu04530', 'path:mmu04540', 'path:mmu04550', 'path:mmu04814', 'path:mmu04810', 'path:mmu04640', 'path:mmu04610', 'path:mmu04611', 'path:mmu04613', 'path:mmu04620', 'path:mmu04621', 'path:mmu04622', 'path:mmu04623', 'path:mmu04625', 'path:mmu04650', 'path:mmu04612', 'path:mmu04660', 'path:mmu04658', 'path:mmu04659', 'path:mmu04657', 'path:mmu04662', 'path:mmu04664', 'path:mmu04666', 'path:mmu04670', 'path:mmu04672', 'path:mmu04062', 'path:mmu04911', 'path:mmu04910', 'path:mmu04922', 'path:mmu04923', 'path:mmu04920', 'path:mmu03320', 'path:mmu04929', 'path:mmu04912', 'path:mmu04913', 'path:mmu04915', 'path:mmu04914', 'path:mmu04917', 'path:mmu04921', 'path:mmu04926', 'path:mmu04935', 'path:mmu04918', 'path:mmu04919', 'path:mmu04928', 'path:mmu04916', 'path:mmu04924', 'path:mmu04614', 'path:mmu04925', 'path:mmu04927', 'path:mmu04260', 'path:mmu04261', 'path:mmu04270', 'path:mmu04970', 'path:mmu04971', 'path:mmu04972', 'path:mmu04976', 'path:mmu04973', 'path:mmu04974', 'path:mmu04975', 'path:mmu04979', 'path:mmu04977', 'path:mmu04978', 'path:mmu04962', 'path:mmu04960', 'path:mmu04961', 'path:mmu04964', 'path:mmu04966', 'path:mmu04724', 'path:mmu04727', 'path:mmu04725', 'path:mmu04728', 'path:mmu04726', 'path:mmu04720', 'path:mmu04730', 'path:mmu04721', 'path:mmu04722', 'path:mmu04744', 'path:mmu04740', 'path:mmu04742', 'path:mmu04750', 'path:mmu04360', 'path:mmu04380', 'path:mmu04211', 'path:mmu04213', 'path:mmu04710', 'path:mmu04713', 'path:mmu04714', 'path:mmu05200', 'path:mmu05202', 'path:mmu05205', 'path:mmu05204', 'path:mmu05207', 'path:mmu05208', 'path:mmu05203', 'path:mmu05230', 'path:mmu05231', 'path:mmu05235', 'path:mmu05210', 'path:mmu05212', 'path:mmu05225', 'path:mmu05226', 'path:mmu05214', 'path:mmu05216', 'path:mmu05221', 'path:mmu05220', 'path:mmu05217', 'path:mmu05218', 'path:mmu05211', 'path:mmu05219', 'path:mmu05215', 'path:mmu05213', 'path:mmu05224', 'path:mmu05222', 'path:mmu05223', 'path:mmu05166', 'path:mmu05170', 'path:mmu05161', 'path:mmu05160', 'path:mmu05171', 'path:mmu05164', 'path:mmu05162', 'path:mmu05168', 'path:mmu05163', 'path:mmu05167', 'path:mmu05169', 'path:mmu05165', 'path:mmu05132', 'path:mmu05135', 'path:mmu05133', 'path:mmu05134', 'path:mmu05150', 'path:mmu05152', 'path:mmu05100', 'path:mmu05146', 'path:mmu05144', 'path:mmu05145', 'path:mmu05140', 'path:mmu05142', 'path:mmu05143', 'path:mmu05310', 'path:mmu05322', 'path:mmu05323', 'path:mmu05320', 'path:mmu05321', 'path:mmu05330', 'path:mmu05332', 'path:mmu05340', 'path:mmu05010', 'path:mmu05014', 'path:mmu05016', 'path:mmu05017', 'path:mmu05020', 'path:mmu05022', 'path:mmu05030', 'path:mmu05031', 'path:mmu05032', 'path:mmu05033', 'path:mmu05034', 'path:mmu05417', 'path:mmu05418', 'path:mmu05410', 'path:mmu05412', 'path:mmu05414', 'path:mmu05415', 'path:mmu05416', 'path:mmu04930', 'path:mmu04940', 'path:mmu04950', 'path:mmu04936', 'path:mmu04932', 'path:mmu04931', 'path:mmu04933', 'path:mmu04934', 'path:mmu01521', 'path:mmu01524', 'path:mmu01523', 'path:mmu01522'])"
            ]
          },
          "metadata": {},
          "execution_count": 3
        }
      ]
    },
    {
      "cell_type": "code",
      "source": [
        "all_gene_ids = [v['genes'] for v in pathway_gene_dict.values()]\n",
        "all_gene_ids_set = set(list(itertools.chain.from_iterable(all_gene_ids)))"
      ],
      "metadata": {
        "id": "JGV94sU0psgC"
      },
      "execution_count": 4,
      "outputs": []
    },
    {
      "cell_type": "code",
      "source": [
        "def chunk_my_list(my_list: list,chunk_size: int):\n",
        "    from numpy import ceil\n",
        "    n_chunks = int(ceil(len(my_list)/chunk_size))\n",
        "    for c in range(0,n_chunks):\n",
        "        yield [v for i,v in enumerate(my_list) if i>=c*chunk_size and i<(c+1)*chunk_size]"
      ],
      "metadata": {
        "id": "rUTzVRTQpv0i"
      },
      "execution_count": 5,
      "outputs": []
    },
    {
      "cell_type": "code",
      "source": [],
      "metadata": {
        "id": "Y8BHROrYs9N2"
      },
      "execution_count": 5,
      "outputs": []
    },
    {
      "cell_type": "code",
      "source": [],
      "metadata": {
        "id": "D_zlDx_1s7Fd"
      },
      "execution_count": 5,
      "outputs": []
    },
    {
      "cell_type": "code",
      "source": [
        "\n",
        "kegg_pathway_gene_dict = dict()\n",
        "for chunk in tqdm( chunk_my_list(all_gene_ids_set,50) ):\n",
        "    chunk_res = kt.resolver.get_gene_names(chunk)\n",
        "    for k,v in chunk_res.items():\n",
        "        kegg_pathway_gene_dict[k]=v.split(\";\")[0]\n"
      ],
      "metadata": {
        "colab": {
          "base_uri": "https://localhost:8080/"
        },
        "id": "zH5iL4qltIA_",
        "outputId": "6515e540-7c56-4c08-a8bd-19a8b69a88ce"
      },
      "execution_count": null,
      "outputs": [
        {
          "output_type": "stream",
          "name": "stderr",
          "text": [
            "45it [05:46,  7.80s/it]"
          ]
        }
      ]
    },
    {
      "cell_type": "code",
      "source": [
        "import json\n",
        "from google import colab\n",
        "with open(f\"./pathway_gene_dict.json\",'w') as outfile:\n",
        "    outfile.write( json.dumps(kegg_pathway_gene_dict, indent=4) )\n",
        "    colab.files.download(f\"./kegg_pathway_gene_dict.json\")"
      ],
      "metadata": {
        "id": "4DZAPgOvpuEl"
      },
      "execution_count": null,
      "outputs": []
    }
  ]
}