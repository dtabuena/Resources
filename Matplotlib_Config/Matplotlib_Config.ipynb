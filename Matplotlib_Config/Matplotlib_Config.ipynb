{
  "nbformat": 4,
  "nbformat_minor": 0,
  "metadata": {
    "colab": {
      "provenance": [],
      "authorship_tag": "ABX9TyMzrZoAXJ9Vo9QPfrLZCh+A",
      "include_colab_link": true
    },
    "kernelspec": {
      "name": "python3",
      "display_name": "Python 3"
    },
    "language_info": {
      "name": "python"
    }
  },
  "cells": [
    {
      "cell_type": "markdown",
      "metadata": {
        "id": "view-in-github",
        "colab_type": "text"
      },
      "source": [
        "<a href=\"https://colab.research.google.com/github/dtabuena/Resources/blob/main/Matplotlib_Config/Matplotlib_Config.ipynb\" target=\"_parent\"><img src=\"https://colab.research.google.com/assets/colab-badge.svg\" alt=\"Open In Colab\"/></a>"
      ]
    },
    {
      "cell_type": "code",
      "execution_count": null,
      "metadata": {
        "id": "OktHftcMYp7G"
      },
      "outputs": [],
      "source": [
        "import json\n",
        "FS = 6\n",
        "fig_config = {'font.size': FS, 'font.family': 'arial','axes.linewidth':.5,\n",
        "              'xtick.major.width': 0.5,'ytick.major.width': 0.5,\n",
        "              'figure.titlesize':FS,'axes.titlesize': FS,'xtick.labelsize': FS,\n",
        "              'ytick.labelsize': FS,'axes.labelsize': FS,'legend.fontsize': FS,\n",
        "              'savefig.dpi': 300,'figure.dpi': 300}\n",
        "with open(f\"./fig_congig_FS{FS}.json\",'w') as outfile:\n",
        "    outfile.write( json.dumps(fig_config, indent=4) )\n",
        "\n",
        "\n",
        "\n"
      ]
    }
  ]
}