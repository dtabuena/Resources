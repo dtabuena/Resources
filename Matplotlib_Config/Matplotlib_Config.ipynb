{
  "nbformat": 4,
  "nbformat_minor": 0,
  "metadata": {
    "colab": {
      "provenance": [],
      "authorship_tag": "ABX9TyPJDfZXQYCCtSzsAl2OhrWC",
      "include_colab_link": true
    },
    "kernelspec": {
      "name": "python3",
      "display_name": "Python 3"
    },
    "language_info": {
      "name": "python"
    }
  },
  "cells": [
    {
      "cell_type": "markdown",
      "metadata": {
        "id": "view-in-github",
        "colab_type": "text"
      },
      "source": [
        "<a href=\"https://colab.research.google.com/github/dtabuena/Resources/blob/main/Matplotlib_Config/Matplotlib_Config.ipynb\" target=\"_parent\"><img src=\"https://colab.research.google.com/assets/colab-badge.svg\" alt=\"Open In Colab\"/></a>"
      ]
    },
    {
      "cell_type": "code",
      "execution_count": 3,
      "metadata": {
        "id": "OktHftcMYp7G",
        "outputId": "320498c7-bea7-4925-c5ce-d1dcdb5b566b",
        "colab": {
          "base_uri": "https://localhost:8080/",
          "height": 17
        }
      },
      "outputs": [
        {
          "output_type": "display_data",
          "data": {
            "text/plain": [
              "<IPython.core.display.Javascript object>"
            ],
            "application/javascript": [
              "\n",
              "    async function download(id, filename, size) {\n",
              "      if (!google.colab.kernel.accessAllowed) {\n",
              "        return;\n",
              "      }\n",
              "      const div = document.createElement('div');\n",
              "      const label = document.createElement('label');\n",
              "      label.textContent = `Downloading \"${filename}\": `;\n",
              "      div.appendChild(label);\n",
              "      const progress = document.createElement('progress');\n",
              "      progress.max = size;\n",
              "      div.appendChild(progress);\n",
              "      document.body.appendChild(div);\n",
              "\n",
              "      const buffers = [];\n",
              "      let downloaded = 0;\n",
              "\n",
              "      const channel = await google.colab.kernel.comms.open(id);\n",
              "      // Send a message to notify the kernel that we're ready.\n",
              "      channel.send({})\n",
              "\n",
              "      for await (const message of channel.messages) {\n",
              "        // Send a message to notify the kernel that we're ready.\n",
              "        channel.send({})\n",
              "        if (message.buffers) {\n",
              "          for (const buffer of message.buffers) {\n",
              "            buffers.push(buffer);\n",
              "            downloaded += buffer.byteLength;\n",
              "            progress.value = downloaded;\n",
              "          }\n",
              "        }\n",
              "      }\n",
              "      const blob = new Blob(buffers, {type: 'application/binary'});\n",
              "      const a = document.createElement('a');\n",
              "      a.href = window.URL.createObjectURL(blob);\n",
              "      a.download = filename;\n",
              "      div.appendChild(a);\n",
              "      a.click();\n",
              "      div.remove();\n",
              "    }\n",
              "  "
            ]
          },
          "metadata": {}
        },
        {
          "output_type": "display_data",
          "data": {
            "text/plain": [
              "<IPython.core.display.Javascript object>"
            ],
            "application/javascript": [
              "download(\"download_cb013808-c486-44ff-96c5-4dd575dc24b1\", \"mpl_config_FS6.json\", 420)"
            ]
          },
          "metadata": {}
        },
        {
          "output_type": "display_data",
          "data": {
            "text/plain": [
              "<IPython.core.display.Javascript object>"
            ],
            "application/javascript": [
              "\n",
              "    async function download(id, filename, size) {\n",
              "      if (!google.colab.kernel.accessAllowed) {\n",
              "        return;\n",
              "      }\n",
              "      const div = document.createElement('div');\n",
              "      const label = document.createElement('label');\n",
              "      label.textContent = `Downloading \"${filename}\": `;\n",
              "      div.appendChild(label);\n",
              "      const progress = document.createElement('progress');\n",
              "      progress.max = size;\n",
              "      div.appendChild(progress);\n",
              "      document.body.appendChild(div);\n",
              "\n",
              "      const buffers = [];\n",
              "      let downloaded = 0;\n",
              "\n",
              "      const channel = await google.colab.kernel.comms.open(id);\n",
              "      // Send a message to notify the kernel that we're ready.\n",
              "      channel.send({})\n",
              "\n",
              "      for await (const message of channel.messages) {\n",
              "        // Send a message to notify the kernel that we're ready.\n",
              "        channel.send({})\n",
              "        if (message.buffers) {\n",
              "          for (const buffer of message.buffers) {\n",
              "            buffers.push(buffer);\n",
              "            downloaded += buffer.byteLength;\n",
              "            progress.value = downloaded;\n",
              "          }\n",
              "        }\n",
              "      }\n",
              "      const blob = new Blob(buffers, {type: 'application/binary'});\n",
              "      const a = document.createElement('a');\n",
              "      a.href = window.URL.createObjectURL(blob);\n",
              "      a.download = filename;\n",
              "      div.appendChild(a);\n",
              "      a.click();\n",
              "      div.remove();\n",
              "    }\n",
              "  "
            ]
          },
          "metadata": {}
        },
        {
          "output_type": "display_data",
          "data": {
            "text/plain": [
              "<IPython.core.display.Javascript object>"
            ],
            "application/javascript": [
              "download(\"download_ca098c13-c79f-47e9-94f8-066d7bf44ce3\", \"mpl_config_FS8.json\", 420)"
            ]
          },
          "metadata": {}
        }
      ],
      "source": [
        "import json\n",
        "from google import colab\n",
        "\n",
        "### WRITE A JSON\n",
        "FS = 6\n",
        "fig_config = {'font.size': FS, 'font.family': 'arial','axes.linewidth':.5,\n",
        "              'xtick.major.width': 0.5,'ytick.major.width': 0.5,\n",
        "              'figure.titlesize':FS,'axes.titlesize': FS,'xtick.labelsize': FS,\n",
        "              'ytick.labelsize': FS,'axes.labelsize': FS,'legend.fontsize': FS,\n",
        "              'savefig.dpi': 300,'figure.dpi': 300, \"grid.color\": \"black\",\n",
        "              \"grid.linestyle\": \"-\", \"grid.linewidth\": 0.3,}\n",
        "with open(f\"./mpl_config_FS{FS}.json\",'w') as outfile:\n",
        "    outfile.write( json.dumps(fig_config, indent=4) )\n",
        "colab.files.download(f\"./mpl_config_FS{FS}.json\")\n",
        "\n",
        "### WRITE A JSON\n",
        "FS = 8\n",
        "fig_config = {'font.size': FS, 'font.family': 'arial','axes.linewidth':.5,\n",
        "              'xtick.major.width': 0.5,'ytick.major.width': 0.5,\n",
        "              'figure.titlesize':FS,'axes.titlesize': FS,'xtick.labelsize': FS,\n",
        "              'ytick.labelsize': FS,'axes.labelsize': FS,'legend.fontsize': FS,\n",
        "              'savefig.dpi': 300,'figure.dpi': 300, \"grid.color\": \"black\",\n",
        "              \"grid.linestyle\": \"-\", \"grid.linewidth\": 0.3,}\n",
        "with open(f\"./mpl_config_FS{FS}.json\",'w') as outfile:\n",
        "    outfile.write( json.dumps(fig_config, indent=4) )\n",
        "colab.files.download(f\"./mpl_config_FS{FS}.json\")\n",
        "\n",
        "\n",
        "\n"
      ]
    },
    {
      "cell_type": "code",
      "source": [
        "### DOWNLOAD JSON\n",
        "import urllib\n",
        "FS = 6\n",
        "_ = urllib.request.urlretrieve('https://github.com/dtabuena/Resources/'\\\n",
        "                                'raw//main/Matplotlib_Config/'\\\n",
        "                                f'mpl_config_FS{FS}.json',\n",
        "                                f'mpl_config_FS{FS}.json')"
      ],
      "metadata": {
        "id": "D-w2cobmZ_b7"
      },
      "execution_count": 10,
      "outputs": []
    },
    {
      "cell_type": "code",
      "source": [
        "### READ A JSON\n",
        "with open(f\"./mpl_config_FS{FS}.json\",'r') as import_file:\n",
        "    fig_config = json.load(import_file)\n"
      ],
      "metadata": {
        "id": "EPfgCWjeZ3AE"
      },
      "execution_count": 5,
      "outputs": []
    },
    {
      "cell_type": "code",
      "source": [
        "### IMPLEMENT CONFIG\n",
        "from matplotlib import rcParams\n",
        "rcParams.update(fig_config)\n"
      ],
      "metadata": {
        "id": "bK7LY1XhZ8fb"
      },
      "execution_count": 6,
      "outputs": []
    },
    {
      "cell_type": "code",
      "source": [
        "https://github.com/dtabuena/Resources/raw/main/Matplotlib_Config/mpl_config_FS6.json"
      ],
      "metadata": {
        "id": "17omGqSDhBoz"
      },
      "execution_count": null,
      "outputs": []
    },
    {
      "cell_type": "code",
      "source": [
        "### quick import\n",
        "import urllib\n",
        "import json\n",
        "from matplotlib import rcParams\n",
        "def import_mpl_config(FS=6):\n",
        "    \"\"\" Load my default plotting parameters \"\"\"\n",
        "    if os.path.isfile(f'./mpl_config_FS{FS}.json'):\n",
        "        os.remove(f'./mpl_config_FS{FS}.json')\n",
        "    _ = urllib.request.urlretrieve('https://github.com/dtabuena/Resources/'\\\n",
        "                                   'raw//main/Matplotlib_Config/'\\\n",
        "                                   f'mpl_config_FS{FS}.json',\n",
        "                                   f'mpl_config_FS{FS}.json')\n",
        "    with open(f\"./mpl_config_FS{FS}.json\",'r') as import_file:\n",
        "        fig_config = json.load(import_file)\n",
        "    rcParams.update(fig_config)\n",
        "    return fig_config\n",
        "_ = import_mpl_config()"
      ],
      "metadata": {
        "id": "hJCcl_9ycZyL"
      },
      "execution_count": 9,
      "outputs": []
    },
    {
      "cell_type": "code",
      "source": [],
      "metadata": {
        "id": "kI4GiT6Zc3Fn"
      },
      "execution_count": null,
      "outputs": []
    }
  ]
}