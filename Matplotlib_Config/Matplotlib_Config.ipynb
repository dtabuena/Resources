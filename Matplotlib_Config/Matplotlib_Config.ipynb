{
  "nbformat": 4,
  "nbformat_minor": 0,
  "metadata": {
    "colab": {
      "provenance": [],
      "authorship_tag": "ABX9TyPn2ZIXyMjbg96ReTTn0QLm",
      "include_colab_link": true
    },
    "kernelspec": {
      "name": "python3",
      "display_name": "Python 3"
    },
    "language_info": {
      "name": "python"
    }
  },
  "cells": [
    {
      "cell_type": "markdown",
      "metadata": {
        "id": "view-in-github",
        "colab_type": "text"
      },
      "source": [
        "<a href=\"https://colab.research.google.com/github/dtabuena/Resources/blob/main/Matplotlib_Config/Matplotlib_Config.ipynb\" target=\"_parent\"><img src=\"https://colab.research.google.com/assets/colab-badge.svg\" alt=\"Open In Colab\"/></a>"
      ]
    },
    {
      "cell_type": "code",
      "execution_count": 12,
      "metadata": {
        "id": "OktHftcMYp7G"
      },
      "outputs": [],
      "source": [
        "import json\n",
        "\n",
        "\n",
        "### WRITE A JSON\n",
        "FS = 6\n",
        "fig_config = {'font.size': FS, 'font.family': 'arial','axes.linewidth':.5,\n",
        "              'xtick.major.width': 0.5,'ytick.major.width': 0.5,\n",
        "              'figure.titlesize':FS,'axes.titlesize': FS,'xtick.labelsize': FS,\n",
        "              'ytick.labelsize': FS,'axes.labelsize': FS,'legend.fontsize': FS,\n",
        "              'savefig.dpi': 300,'figure.dpi': 300}\n",
        "with open(f\"./mpl_config_FS{FS}.json\",'w') as outfile:\n",
        "    outfile.write( json.dumps(fig_config, indent=4) )\n",
        "\n",
        "\n",
        "### WRITE A JSON\n",
        "FS = 8\n",
        "fig_config = {'font.size': FS, 'font.family': 'arial','axes.linewidth':.5,\n",
        "              'xtick.major.width': 0.5,'ytick.major.width': 0.5,\n",
        "              'figure.titlesize':FS,'axes.titlesize': FS,'xtick.labelsize': FS,\n",
        "              'ytick.labelsize': FS,'axes.labelsize': FS,'legend.fontsize': FS,\n",
        "              'savefig.dpi': 300,'figure.dpi': 300}\n",
        "with open(f\"./mpl_config_FS{FS}.json\",'w') as outfile:\n",
        "    outfile.write( json.dumps(fig_config, indent=4) )\n"
      ]
    },
    {
      "cell_type": "code",
      "source": [
        "### DOWNLOAD JSON\n",
        "import urllib\n",
        "_ = urllib.request.urlretrieve('https://github.com/dtabuena/Resources/raw/38d1acaa72ac6d0c1893872ed092f0a8a2bd8d35/Matplotlib_Config/mpl_config_FS6.json','mpl_config_FS6.json')\n",
        "_ = urllib.request.urlretrieve('https://github.com/dtabuena/Resources/raw/38d1acaa72ac6d0c1893872ed092f0a8a2bd8d35/Matplotlib_Config/mpl_config_FS8.json','mpl_config_FS8.json')"
      ],
      "metadata": {
        "id": "D-w2cobmZ_b7"
      },
      "execution_count": 19,
      "outputs": []
    },
    {
      "cell_type": "code",
      "source": [
        "### READ A JSON\n",
        "with open(f\"./mpl_config_FS{FS}.json\",'r') as import_file:\n",
        "    fig_config = json.load(import_file)\n"
      ],
      "metadata": {
        "id": "EPfgCWjeZ3AE"
      },
      "execution_count": 8,
      "outputs": []
    },
    {
      "cell_type": "code",
      "source": [
        "### IMPLEMENT CONFIG\n",
        "from matplotlib import rcParams\n",
        "rcParams.update(fig_config)\n"
      ],
      "metadata": {
        "id": "bK7LY1XhZ8fb"
      },
      "execution_count": 9,
      "outputs": []
    },
    {
      "cell_type": "code",
      "source": [
        "### quick import\n",
        "import urllib\n",
        "import json\n",
        "from matplotlib import rcParams\n",
        "def import_mpl_config(FS=6):\n",
        "    _ = urllib.request.urlretrieve('https://github.com/dtabuena/Resources/raw/38d1acaa72ac6d0c1893872ed092f0a8a2bd8d35/Matplotlib_Config/mpl_config_FS6.json','mpl_config_FS6.json')\n",
        "    _ = urllib.request.urlretrieve('https://github.com/dtabuena/Resources/raw/38d1acaa72ac6d0c1893872ed092f0a8a2bd8d35/Matplotlib_Config/mpl_config_FS8.json','mpl_config_FS8.json')\n",
        "    with open(f\"./mpl_config_FS{FS}.json\",'r') as import_file:\n",
        "        fig_config = json.load(import_file)\n",
        "    rcParams.update(fig_config)\n",
        "    return fig_config\n",
        "_ = import_mpl_config()"
      ],
      "metadata": {
        "id": "hJCcl_9ycZyL"
      },
      "execution_count": 25,
      "outputs": []
    },
    {
      "cell_type": "code",
      "source": [],
      "metadata": {
        "id": "kI4GiT6Zc3Fn"
      },
      "execution_count": null,
      "outputs": []
    }
  ]
}