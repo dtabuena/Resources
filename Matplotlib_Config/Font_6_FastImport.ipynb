{
  "nbformat": 4,
  "nbformat_minor": 0,
  "metadata": {
    "colab": {
      "provenance": [],
      "authorship_tag": "ABX9TyO2M5RfXS4SxUicqRrOMwY2",
      "include_colab_link": true
    },
    "kernelspec": {
      "name": "python3",
      "display_name": "Python 3"
    },
    "language_info": {
      "name": "python"
    }
  },
  "cells": [
    {
      "cell_type": "markdown",
      "metadata": {
        "id": "view-in-github",
        "colab_type": "text"
      },
      "source": [
        "<a href=\"https://colab.research.google.com/github/dtabuena/Resources/blob/main/Matplotlib_Config/Font_6_FastImport.ipynb\" target=\"_parent\"><img src=\"https://colab.research.google.com/assets/colab-badge.svg\" alt=\"Open In Colab\"/></a>"
      ]
    },
    {
      "cell_type": "code",
      "execution_count": null,
      "metadata": {
        "id": "XGF8FjG5Zb9w"
      },
      "outputs": [],
      "source": [
        "\"\"\" PLOT CONFIG \"\"\"\n",
        "### quick import\n",
        "import urllib\n",
        "import json\n",
        "import matplotlib as mpl\n",
        "from matplotlib import rcParams\n",
        "def import_mpl_config(FS=6):\n",
        "    \"\"\" Load my default plotting parameters \"\"\"\n",
        "    if os.path.isfile(f'./mpl_config_FS{FS}.json'):\n",
        "        os.remove(f'./mpl_config_FS{FS}.json')\n",
        "    _ = urllib.request.urlretrieve('https://github.com/dtabuena/Resources/'\\\n",
        "                                   'raw//main/Matplotlib_Config/'\\\n",
        "                                   f'mpl_config_FS{FS}.json',\n",
        "                                   f'mpl_config_FS{FS}.json')\n",
        "    with open(f\"./mpl_config_FS{FS}.json\",'r') as import_file:\n",
        "        fig_config = json.load(import_file)\n",
        "    rcParams.update(fig_config)\n",
        "    _ = urllib.request.urlretrieve('https://github.com/dtabuena/Resources/raw/main/Fonts/arial.ttf','arial.ttf')\n",
        "    mpl.font_manager.fontManager.addfont('./arial.ttf')\n",
        "    return fig_config\n",
        "_ = import_mpl_config()"
      ]
    }
  ]
}