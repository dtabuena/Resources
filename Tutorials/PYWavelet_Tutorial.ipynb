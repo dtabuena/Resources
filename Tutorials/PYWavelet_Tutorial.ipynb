{
  "nbformat": 4,
  "nbformat_minor": 0,
  "metadata": {
    "colab": {
      "provenance": [],
      "authorship_tag": "ABX9TyPN1S0J3oLqfEWwnp53+/Wk",
      "include_colab_link": true
    },
    "kernelspec": {
      "name": "python3",
      "display_name": "Python 3"
    },
    "language_info": {
      "name": "python"
    }
  },
  "cells": [
    {
      "cell_type": "markdown",
      "metadata": {
        "id": "view-in-github",
        "colab_type": "text"
      },
      "source": [
        "<a href=\"https://colab.research.google.com/github/dtabuena/Resources/blob/main/Tutorials/PYWavelet_Tutorial.ipynb\" target=\"_parent\"><img src=\"https://colab.research.google.com/assets/colab-badge.svg\" alt=\"Open In Colab\"/></a>"
      ]
    },
    {
      "cell_type": "code",
      "execution_count": 19,
      "metadata": {
        "colab": {
          "base_uri": "https://localhost:8080/"
        },
        "id": "4fSiRwCAJX9q",
        "outputId": "8768c34a-cb34-4eb7-c126-438b70ef8d4c"
      },
      "outputs": [
        {
          "output_type": "stream",
          "name": "stdout",
          "text": [
            "[  1.   2.   4.   8.  16.  32.  64. 128. 256. 512.]\n",
            "[  1.   2.   4.   8.  16.  32.  64. 128. 256. 512.]\n"
          ]
        }
      ],
      "source": [
        "import pywt\n",
        "import numpy as np\n",
        "fs=5000\n",
        "_SIGNAL = np.random.rand(1000)\n",
        "\n",
        "\n",
        "wav= pywt.ContinuousWavelet('cmor1.5-1')\n",
        "my_freqs = np.logspace(0,9,num=10,base=2)\n",
        "scales = pywt.frequency2scale(wav, my_freqs/fs)\n",
        "coeffs, freqs = pywt.cwt(_SIGNAL,scales,wav,sampling_period=1/fs)\n",
        "print(my_freqs)\n",
        "print(freqs)"
      ]
    },
    {
      "cell_type": "code",
      "source": [
        "print(scales)\n",
        "print(pywt.scale2frequency('morl', scales/fs*8).tolist()[::-1])"
      ],
      "metadata": {
        "id": "giPD5n6-Jdat"
      },
      "execution_count": null,
      "outputs": []
    }
  ]
}