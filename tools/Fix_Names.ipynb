{
  "nbformat": 4,
  "nbformat_minor": 0,
  "metadata": {
    "colab": {
      "provenance": [],
      "authorship_tag": "ABX9TyOFfG+J2ZLqhQ0QS5qw5/PG",
      "include_colab_link": true
    },
    "kernelspec": {
      "name": "python3",
      "display_name": "Python 3"
    },
    "language_info": {
      "name": "python"
    }
  },
  "cells": [
    {
      "cell_type": "markdown",
      "metadata": {
        "id": "view-in-github",
        "colab_type": "text"
      },
      "source": [
        "<a href=\"https://colab.research.google.com/github/dtabuena/Resources/blob/main/tools/Fix_Names.ipynb\" target=\"_parent\"><img src=\"https://colab.research.google.com/assets/colab-badge.svg\" alt=\"Open In Colab\"/></a>"
      ]
    },
    {
      "cell_type": "code",
      "execution_count": 1,
      "metadata": {
        "id": "Kjux4a0J9MOD"
      },
      "outputs": [],
      "source": [
        "import os\n",
        "import pandas as pd\n",
        "import shutil\n",
        "\n"
      ]
    },
    {
      "cell_type": "code",
      "source": [
        "source_dir = r\"C:\\Users\\dennis.tabuena\\Gladstone Dropbox\\Dennis Tabuena\\_Colab_OutBox\\For Yoshi\\2HG\\Recs\\2025x03x21_\"\n",
        "print(source_dir)"
      ],
      "metadata": {
        "colab": {
          "base_uri": "https://localhost:8080/"
        },
        "id": "GxZyLCoL9Pmn",
        "outputId": "b4f70aea-d088-4c56-d698-8ce23d4a23f1"
      },
      "execution_count": 2,
      "outputs": [
        {
          "output_type": "stream",
          "name": "stdout",
          "text": [
            "C:\\Users\\dennis.tabuena\\Gladstone Dropbox\\Dennis Tabuena\\_Colab_OutBox\\For Yoshi\\2HG\\Recs\\2025x03x21_\n"
          ]
        }
      ]
    },
    {
      "cell_type": "code",
      "source": [
        "os.chdir(source_dir)\n",
        "file_list =list()\n",
        "\n",
        "\n",
        "for root, dirs, files in os.walk(\".\", topdown=False):\n",
        "    for file in files:\n",
        "        if 'abf' in file:\n",
        "            file_list.append(os.path.join(root,file))\n",
        "_ = [print(f) for f in file_list]\n",
        "# print(file_list)\n",
        "\n"
      ],
      "metadata": {
        "id": "LgT3tR3g-Fth",
        "colab": {
          "base_uri": "https://localhost:8080/"
        },
        "outputId": "f04181f7-062c-4c86-c381-68fbc545cecb"
      },
      "execution_count": 11,
      "outputs": [
        {
          "output_type": "stream",
          "name": "stdout",
          "text": [
            ".\\2025x03x21_E3KI_F_P160_S1_0000.abf\n",
            ".\\2025x03x21_E3KI_F_P160_S1_0001.abf\n",
            ".\\2025x03x21_E3KI_F_P160_S1_0002.abf\n",
            ".\\2025x03x21_E3KI_F_P160_S1_0003.abf\n",
            ".\\2025x03x21_E3KI_F_P160_S1_0004.abf\n",
            ".\\2025x03x21_E3KI_F_P160_S1_0005.abf\n",
            ".\\2025x03x21_E3KI_F_P160_S1_0006.abf\n",
            ".\\2025x03x21_E3KI_F_P160_S1_0007.abf\n",
            ".\\2025x03x21_E3KI_F_P160_S1_0008.abf\n",
            ".\\2025x03x21_E3KI_F_P160_S1_0009.abf\n",
            ".\\2025x03x21_E3KI_F_P160_S1_0010.abf\n",
            ".\\2025x03x21_E3KI_F_P160_S2_0000.abf\n",
            ".\\2025x03x21_E3KI_F_P160_S2_0001.abf\n",
            ".\\2025x03x21_E3KI_F_P160_S2_0002.abf\n",
            ".\\2025x03x21_E3KI_F_P160_S2_0003.abf\n",
            ".\\2025x03x21_E3KI_F_P160_S2_0004.abf\n",
            ".\\2025x03x21_E3KI_F_P160_S2_0005.abf\n",
            ".\\2025x03x21_E3KI_F_P160_S2_0006.abf\n",
            ".\\2025x03x21_E3KI_F_P160_S2_0007.abf\n",
            ".\\2025x03x21_E3KI_F_P160_S2_0008.abf\n"
          ]
        }
      ]
    },
    {
      "cell_type": "code",
      "source": [
        "\"2025x03x26_E4KI_F_P163_sagi_s001_0001\""
      ],
      "metadata": {
        "id": "ktBa0qst_IWA",
        "outputId": "79571f37-4c16-4b45-ec4a-fc9ec160c3d0",
        "colab": {
          "base_uri": "https://localhost:8080/"
        }
      },
      "execution_count": 8,
      "outputs": [
        {
          "output_type": "execute_result",
          "data": {
            "text/plain": [
              "'2025x03x26_E4KI_F_P163_sagi_s001_0001'"
            ]
          },
          "metadata": {},
          "execution_count": 8
        }
      ]
    },
    {
      "cell_type": "code",
      "source": [
        "def convert(file_path):\n",
        "\n",
        "    file_path = file_path.replace('_S','_sagi_S')\n",
        "    # file_path = file_path.replace('2025x03x19','2025x03x24')\n",
        "    return file_path\n",
        "file_conversion_dict = {f:convert(f) for f in file_list}\n",
        "print('Proposed Changes')\n",
        "display(file_conversion_dict)"
      ],
      "metadata": {
        "colab": {
          "base_uri": "https://localhost:8080/",
          "height": 405
        },
        "id": "abghmV_JEzUl",
        "outputId": "f8fe0212-cd72-4c82-cc87-c7413b0b2ff8"
      },
      "execution_count": 12,
      "outputs": [
        {
          "output_type": "stream",
          "name": "stdout",
          "text": [
            "Proposed Changes\n"
          ]
        },
        {
          "output_type": "display_data",
          "data": {
            "text/plain": [
              "{'.\\\\2025x03x21_E3KI_F_P160_S1_0000.abf': '.\\\\2025x03x21_E3KI_F_P160_sagi_S1_0000.abf',\n",
              " '.\\\\2025x03x21_E3KI_F_P160_S1_0001.abf': '.\\\\2025x03x21_E3KI_F_P160_sagi_S1_0001.abf',\n",
              " '.\\\\2025x03x21_E3KI_F_P160_S1_0002.abf': '.\\\\2025x03x21_E3KI_F_P160_sagi_S1_0002.abf',\n",
              " '.\\\\2025x03x21_E3KI_F_P160_S1_0003.abf': '.\\\\2025x03x21_E3KI_F_P160_sagi_S1_0003.abf',\n",
              " '.\\\\2025x03x21_E3KI_F_P160_S1_0004.abf': '.\\\\2025x03x21_E3KI_F_P160_sagi_S1_0004.abf',\n",
              " '.\\\\2025x03x21_E3KI_F_P160_S1_0005.abf': '.\\\\2025x03x21_E3KI_F_P160_sagi_S1_0005.abf',\n",
              " '.\\\\2025x03x21_E3KI_F_P160_S1_0006.abf': '.\\\\2025x03x21_E3KI_F_P160_sagi_S1_0006.abf',\n",
              " '.\\\\2025x03x21_E3KI_F_P160_S1_0007.abf': '.\\\\2025x03x21_E3KI_F_P160_sagi_S1_0007.abf',\n",
              " '.\\\\2025x03x21_E3KI_F_P160_S1_0008.abf': '.\\\\2025x03x21_E3KI_F_P160_sagi_S1_0008.abf',\n",
              " '.\\\\2025x03x21_E3KI_F_P160_S1_0009.abf': '.\\\\2025x03x21_E3KI_F_P160_sagi_S1_0009.abf',\n",
              " '.\\\\2025x03x21_E3KI_F_P160_S1_0010.abf': '.\\\\2025x03x21_E3KI_F_P160_sagi_S1_0010.abf',\n",
              " '.\\\\2025x03x21_E3KI_F_P160_S2_0000.abf': '.\\\\2025x03x21_E3KI_F_P160_sagi_S2_0000.abf',\n",
              " '.\\\\2025x03x21_E3KI_F_P160_S2_0001.abf': '.\\\\2025x03x21_E3KI_F_P160_sagi_S2_0001.abf',\n",
              " '.\\\\2025x03x21_E3KI_F_P160_S2_0002.abf': '.\\\\2025x03x21_E3KI_F_P160_sagi_S2_0002.abf',\n",
              " '.\\\\2025x03x21_E3KI_F_P160_S2_0003.abf': '.\\\\2025x03x21_E3KI_F_P160_sagi_S2_0003.abf',\n",
              " '.\\\\2025x03x21_E3KI_F_P160_S2_0004.abf': '.\\\\2025x03x21_E3KI_F_P160_sagi_S2_0004.abf',\n",
              " '.\\\\2025x03x21_E3KI_F_P160_S2_0005.abf': '.\\\\2025x03x21_E3KI_F_P160_sagi_S2_0005.abf',\n",
              " '.\\\\2025x03x21_E3KI_F_P160_S2_0006.abf': '.\\\\2025x03x21_E3KI_F_P160_sagi_S2_0006.abf',\n",
              " '.\\\\2025x03x21_E3KI_F_P160_S2_0007.abf': '.\\\\2025x03x21_E3KI_F_P160_sagi_S2_0007.abf',\n",
              " '.\\\\2025x03x21_E3KI_F_P160_S2_0008.abf': '.\\\\2025x03x21_E3KI_F_P160_sagi_S2_0008.abf'}"
            ]
          },
          "metadata": {}
        }
      ]
    },
    {
      "cell_type": "code",
      "source": [
        "cwd = os.getcwd()\n",
        "print(cwd)\n",
        "dest_dir = '.\\_NameCorrectionConsolidation'\n",
        "os.makedirs(dest_dir,exist_ok=True)"
      ],
      "metadata": {
        "id": "LVvePFHxSeVy",
        "outputId": "e8ec018d-1a14-4d4c-c361-5f2dbf7f6f35",
        "colab": {
          "base_uri": "https://localhost:8080/"
        }
      },
      "execution_count": 13,
      "outputs": [
        {
          "output_type": "stream",
          "name": "stdout",
          "text": [
            "C:\\Users\\dennis.tabuena\\Gladstone Dropbox\\Dennis Tabuena\\_Colab_OutBox\\For Yoshi\\2HG\\Recs\\2025x03x21_\n"
          ]
        }
      ]
    },
    {
      "cell_type": "code",
      "source": [
        "for src, dst in file_conversion_dict.items():\n",
        "    src = os.path.join(cwd,src[2:])\n",
        "    dst = os.path.join(dest_dir,dst[2:])\n",
        "    # dst = os.path.join('.',dest_dir,dst[2:])\n",
        "\n",
        "    print(src)\n",
        "    print(dst)\n",
        "    new_dir = os.path.split(dst)[0]\n",
        "    print(new_dir)\n",
        "    if not os.path.exists(new_dir):\n",
        "        os.makedirs(new_dir)\n",
        "    shutil.copy2(src, dst)\n",
        "\n"
      ],
      "metadata": {
        "colab": {
          "base_uri": "https://localhost:8080/"
        },
        "id": "BOnwwujKGe5Q",
        "outputId": "a6cf32a7-93be-4420-fc62-663db70cc8b1"
      },
      "execution_count": 14,
      "outputs": [
        {
          "output_type": "stream",
          "name": "stdout",
          "text": [
            "C:\\Users\\dennis.tabuena\\Gladstone Dropbox\\Dennis Tabuena\\_Colab_OutBox\\For Yoshi\\2HG\\Recs\\2025x03x21_\\2025x03x21_E3KI_F_P160_S1_0000.abf\n",
            ".\\_NameCorrectionConsolidation\\2025x03x21_E3KI_F_P160_sagi_S1_0000.abf\n",
            ".\\_NameCorrectionConsolidation\n",
            "C:\\Users\\dennis.tabuena\\Gladstone Dropbox\\Dennis Tabuena\\_Colab_OutBox\\For Yoshi\\2HG\\Recs\\2025x03x21_\\2025x03x21_E3KI_F_P160_S1_0001.abf\n",
            ".\\_NameCorrectionConsolidation\\2025x03x21_E3KI_F_P160_sagi_S1_0001.abf\n",
            ".\\_NameCorrectionConsolidation\n",
            "C:\\Users\\dennis.tabuena\\Gladstone Dropbox\\Dennis Tabuena\\_Colab_OutBox\\For Yoshi\\2HG\\Recs\\2025x03x21_\\2025x03x21_E3KI_F_P160_S1_0002.abf\n",
            ".\\_NameCorrectionConsolidation\\2025x03x21_E3KI_F_P160_sagi_S1_0002.abf\n",
            ".\\_NameCorrectionConsolidation\n",
            "C:\\Users\\dennis.tabuena\\Gladstone Dropbox\\Dennis Tabuena\\_Colab_OutBox\\For Yoshi\\2HG\\Recs\\2025x03x21_\\2025x03x21_E3KI_F_P160_S1_0003.abf\n",
            ".\\_NameCorrectionConsolidation\\2025x03x21_E3KI_F_P160_sagi_S1_0003.abf\n",
            ".\\_NameCorrectionConsolidation\n",
            "C:\\Users\\dennis.tabuena\\Gladstone Dropbox\\Dennis Tabuena\\_Colab_OutBox\\For Yoshi\\2HG\\Recs\\2025x03x21_\\2025x03x21_E3KI_F_P160_S1_0004.abf\n",
            ".\\_NameCorrectionConsolidation\\2025x03x21_E3KI_F_P160_sagi_S1_0004.abf\n",
            ".\\_NameCorrectionConsolidation\n",
            "C:\\Users\\dennis.tabuena\\Gladstone Dropbox\\Dennis Tabuena\\_Colab_OutBox\\For Yoshi\\2HG\\Recs\\2025x03x21_\\2025x03x21_E3KI_F_P160_S1_0005.abf\n",
            ".\\_NameCorrectionConsolidation\\2025x03x21_E3KI_F_P160_sagi_S1_0005.abf\n",
            ".\\_NameCorrectionConsolidation\n",
            "C:\\Users\\dennis.tabuena\\Gladstone Dropbox\\Dennis Tabuena\\_Colab_OutBox\\For Yoshi\\2HG\\Recs\\2025x03x21_\\2025x03x21_E3KI_F_P160_S1_0006.abf\n",
            ".\\_NameCorrectionConsolidation\\2025x03x21_E3KI_F_P160_sagi_S1_0006.abf\n",
            ".\\_NameCorrectionConsolidation\n",
            "C:\\Users\\dennis.tabuena\\Gladstone Dropbox\\Dennis Tabuena\\_Colab_OutBox\\For Yoshi\\2HG\\Recs\\2025x03x21_\\2025x03x21_E3KI_F_P160_S1_0007.abf\n",
            ".\\_NameCorrectionConsolidation\\2025x03x21_E3KI_F_P160_sagi_S1_0007.abf\n",
            ".\\_NameCorrectionConsolidation\n",
            "C:\\Users\\dennis.tabuena\\Gladstone Dropbox\\Dennis Tabuena\\_Colab_OutBox\\For Yoshi\\2HG\\Recs\\2025x03x21_\\2025x03x21_E3KI_F_P160_S1_0008.abf\n",
            ".\\_NameCorrectionConsolidation\\2025x03x21_E3KI_F_P160_sagi_S1_0008.abf\n",
            ".\\_NameCorrectionConsolidation\n",
            "C:\\Users\\dennis.tabuena\\Gladstone Dropbox\\Dennis Tabuena\\_Colab_OutBox\\For Yoshi\\2HG\\Recs\\2025x03x21_\\2025x03x21_E3KI_F_P160_S1_0009.abf\n",
            ".\\_NameCorrectionConsolidation\\2025x03x21_E3KI_F_P160_sagi_S1_0009.abf\n",
            ".\\_NameCorrectionConsolidation\n",
            "C:\\Users\\dennis.tabuena\\Gladstone Dropbox\\Dennis Tabuena\\_Colab_OutBox\\For Yoshi\\2HG\\Recs\\2025x03x21_\\2025x03x21_E3KI_F_P160_S1_0010.abf\n",
            ".\\_NameCorrectionConsolidation\\2025x03x21_E3KI_F_P160_sagi_S1_0010.abf\n",
            ".\\_NameCorrectionConsolidation\n",
            "C:\\Users\\dennis.tabuena\\Gladstone Dropbox\\Dennis Tabuena\\_Colab_OutBox\\For Yoshi\\2HG\\Recs\\2025x03x21_\\2025x03x21_E3KI_F_P160_S2_0000.abf\n",
            ".\\_NameCorrectionConsolidation\\2025x03x21_E3KI_F_P160_sagi_S2_0000.abf\n",
            ".\\_NameCorrectionConsolidation\n",
            "C:\\Users\\dennis.tabuena\\Gladstone Dropbox\\Dennis Tabuena\\_Colab_OutBox\\For Yoshi\\2HG\\Recs\\2025x03x21_\\2025x03x21_E3KI_F_P160_S2_0001.abf\n",
            ".\\_NameCorrectionConsolidation\\2025x03x21_E3KI_F_P160_sagi_S2_0001.abf\n",
            ".\\_NameCorrectionConsolidation\n",
            "C:\\Users\\dennis.tabuena\\Gladstone Dropbox\\Dennis Tabuena\\_Colab_OutBox\\For Yoshi\\2HG\\Recs\\2025x03x21_\\2025x03x21_E3KI_F_P160_S2_0002.abf\n",
            ".\\_NameCorrectionConsolidation\\2025x03x21_E3KI_F_P160_sagi_S2_0002.abf\n",
            ".\\_NameCorrectionConsolidation\n",
            "C:\\Users\\dennis.tabuena\\Gladstone Dropbox\\Dennis Tabuena\\_Colab_OutBox\\For Yoshi\\2HG\\Recs\\2025x03x21_\\2025x03x21_E3KI_F_P160_S2_0003.abf\n",
            ".\\_NameCorrectionConsolidation\\2025x03x21_E3KI_F_P160_sagi_S2_0003.abf\n",
            ".\\_NameCorrectionConsolidation\n",
            "C:\\Users\\dennis.tabuena\\Gladstone Dropbox\\Dennis Tabuena\\_Colab_OutBox\\For Yoshi\\2HG\\Recs\\2025x03x21_\\2025x03x21_E3KI_F_P160_S2_0004.abf\n",
            ".\\_NameCorrectionConsolidation\\2025x03x21_E3KI_F_P160_sagi_S2_0004.abf\n",
            ".\\_NameCorrectionConsolidation\n",
            "C:\\Users\\dennis.tabuena\\Gladstone Dropbox\\Dennis Tabuena\\_Colab_OutBox\\For Yoshi\\2HG\\Recs\\2025x03x21_\\2025x03x21_E3KI_F_P160_S2_0005.abf\n",
            ".\\_NameCorrectionConsolidation\\2025x03x21_E3KI_F_P160_sagi_S2_0005.abf\n",
            ".\\_NameCorrectionConsolidation\n",
            "C:\\Users\\dennis.tabuena\\Gladstone Dropbox\\Dennis Tabuena\\_Colab_OutBox\\For Yoshi\\2HG\\Recs\\2025x03x21_\\2025x03x21_E3KI_F_P160_S2_0006.abf\n",
            ".\\_NameCorrectionConsolidation\\2025x03x21_E3KI_F_P160_sagi_S2_0006.abf\n",
            ".\\_NameCorrectionConsolidation\n",
            "C:\\Users\\dennis.tabuena\\Gladstone Dropbox\\Dennis Tabuena\\_Colab_OutBox\\For Yoshi\\2HG\\Recs\\2025x03x21_\\2025x03x21_E3KI_F_P160_S2_0007.abf\n",
            ".\\_NameCorrectionConsolidation\\2025x03x21_E3KI_F_P160_sagi_S2_0007.abf\n",
            ".\\_NameCorrectionConsolidation\n",
            "C:\\Users\\dennis.tabuena\\Gladstone Dropbox\\Dennis Tabuena\\_Colab_OutBox\\For Yoshi\\2HG\\Recs\\2025x03x21_\\2025x03x21_E3KI_F_P160_S2_0008.abf\n",
            ".\\_NameCorrectionConsolidation\\2025x03x21_E3KI_F_P160_sagi_S2_0008.abf\n",
            ".\\_NameCorrectionConsolidation\n"
          ]
        }
      ]
    }
  ]
}