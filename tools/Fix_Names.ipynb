{
  "nbformat": 4,
  "nbformat_minor": 0,
  "metadata": {
    "colab": {
      "provenance": [],
      "authorship_tag": "ABX9TyMyAfWSbs//jKRI7azWAZ5d",
      "include_colab_link": true
    },
    "kernelspec": {
      "name": "python3",
      "display_name": "Python 3"
    },
    "language_info": {
      "name": "python"
    }
  },
  "cells": [
    {
      "cell_type": "markdown",
      "metadata": {
        "id": "view-in-github",
        "colab_type": "text"
      },
      "source": [
        "<a href=\"https://colab.research.google.com/github/dtabuena/Resources/blob/main/tools/Fix_Names.ipynb\" target=\"_parent\"><img src=\"https://colab.research.google.com/assets/colab-badge.svg\" alt=\"Open In Colab\"/></a>"
      ]
    },
    {
      "cell_type": "code",
      "execution_count": 34,
      "metadata": {
        "id": "Kjux4a0J9MOD"
      },
      "outputs": [],
      "source": [
        "import os\n",
        "import pandas as pd\n",
        "import shutil\n",
        "\n"
      ]
    },
    {
      "cell_type": "code",
      "source": [
        "source_dir = r\"C:\\Users\\dennis.tabuena\\Gladstone Dropbox\\Dennis Tabuena\\_Colab_OutBox\\For Yoshi\\2HG\\Recs\\2025x03x21_\"\n",
        "print(source_dir)"
      ],
      "metadata": {
        "colab": {
          "base_uri": "https://localhost:8080/"
        },
        "id": "GxZyLCoL9Pmn",
        "outputId": "a0ef072f-130f-46fd-d44d-f7cf7f4b360f"
      },
      "execution_count": 35,
      "outputs": [
        {
          "output_type": "stream",
          "name": "stdout",
          "text": [
            "C:\\Users\\dennis.tabuena\\Gladstone Dropbox\\Dennis Tabuena\\_Colab_OutBox\\For Yoshi\\2HG\\Recs\\2025x03x21_\n"
          ]
        }
      ]
    },
    {
      "cell_type": "code",
      "source": [
        "os.chdir(source_dir)\n",
        "file_list =list()\n",
        "\n",
        "\n",
        "for root, dirs, files in os.walk(\".\", topdown=False):\n",
        "    for file in files:\n",
        "        if 'abf' in file:\n",
        "            file_list.append(os.path.join(root,file))\n",
        "_ = [print(f) for f in file_list]\n",
        "# print(file_list)\n",
        "\n"
      ],
      "metadata": {
        "id": "LgT3tR3g-Fth",
        "colab": {
          "base_uri": "https://localhost:8080/"
        },
        "outputId": "da2a4983-541e-4c69-bca5-ce78ea7e0261"
      },
      "execution_count": 36,
      "outputs": [
        {
          "output_type": "stream",
          "name": "stdout",
          "text": [
            ".\\2025x03x21_E3KI_F_P160_sagi_S001_0000.abf\n",
            ".\\2025x03x21_E3KI_F_P160_sagi_S001_0001.abf\n",
            ".\\2025x03x21_E3KI_F_P160_sagi_S001_0002.abf\n",
            ".\\2025x03x21_E3KI_F_P160_sagi_S001_0003.abf\n",
            ".\\2025x03x21_E3KI_F_P160_sagi_S001_0004.abf\n",
            ".\\2025x03x21_E3KI_F_P160_sagi_S001_0005.abf\n",
            ".\\2025x03x21_E3KI_F_P160_sagi_S001_0006.abf\n",
            ".\\2025x03x21_E3KI_F_P160_sagi_S001_0007.abf\n",
            ".\\2025x03x21_E3KI_F_P160_sagi_S001_0008.abf\n",
            ".\\2025x03x21_E3KI_F_P160_sagi_S001_0009.abf\n",
            ".\\2025x03x21_E3KI_F_P160_sagi_S001_0010.abf\n",
            ".\\2025x03x21_E3KI_F_P160_sagi_S002_0000.abf\n",
            ".\\2025x03x21_E3KI_F_P160_sagi_S002_0001.abf\n",
            ".\\2025x03x21_E3KI_F_P160_sagi_S002_0002.abf\n",
            ".\\2025x03x21_E3KI_F_P160_sagi_S002_0003.abf\n",
            ".\\2025x03x21_E3KI_F_P160_sagi_S002_0004.abf\n",
            ".\\2025x03x21_E3KI_F_P160_sagi_S002_0005.abf\n",
            ".\\2025x03x21_E3KI_F_P160_sagi_S002_0006.abf\n",
            ".\\2025x03x21_E3KI_F_P160_sagi_S002_0007.abf\n",
            ".\\2025x03x21_E3KI_F_P160_sagi_S002_0008.abf\n"
          ]
        }
      ]
    },
    {
      "cell_type": "code",
      "source": [
        "\"2025x03x26_E4KI_F_P163_sagi_s001_0001\""
      ],
      "metadata": {
        "id": "ktBa0qst_IWA",
        "outputId": "00247ba1-45ab-4007-d017-35fcae1aa173",
        "colab": {
          "base_uri": "https://localhost:8080/"
        }
      },
      "execution_count": 37,
      "outputs": [
        {
          "output_type": "execute_result",
          "data": {
            "text/plain": [
              "'2025x03x26_E4KI_F_P163_sagi_s001_0001'"
            ]
          },
          "metadata": {},
          "execution_count": 37
        }
      ]
    },
    {
      "cell_type": "code",
      "source": [
        "def convert(file_path):\n",
        "\n",
        "    file_path = file_path.replace('_sagi_S','_sagi_s')\n",
        "    # file_path = file_path.replace('2025x03x19','2025x03x24')\n",
        "    return file_path\n",
        "file_conversion_dict = {f:convert(f) for f in file_list}\n",
        "print('Proposed Changes')\n",
        "display(file_conversion_dict)"
      ],
      "metadata": {
        "colab": {
          "base_uri": "https://localhost:8080/",
          "height": 405
        },
        "id": "abghmV_JEzUl",
        "outputId": "b8a8ce54-ac1d-42f5-a8c8-1bd00eb72490"
      },
      "execution_count": 41,
      "outputs": [
        {
          "output_type": "stream",
          "name": "stdout",
          "text": [
            "Proposed Changes\n"
          ]
        },
        {
          "output_type": "display_data",
          "data": {
            "text/plain": [
              "{'.\\\\2025x03x21_E3KI_F_P160_sagi_S001_0000.abf': '.\\\\2025x03x21_E3KI_F_P160_sagi_s001_0000.abf',\n",
              " '.\\\\2025x03x21_E3KI_F_P160_sagi_S001_0001.abf': '.\\\\2025x03x21_E3KI_F_P160_sagi_s001_0001.abf',\n",
              " '.\\\\2025x03x21_E3KI_F_P160_sagi_S001_0002.abf': '.\\\\2025x03x21_E3KI_F_P160_sagi_s001_0002.abf',\n",
              " '.\\\\2025x03x21_E3KI_F_P160_sagi_S001_0003.abf': '.\\\\2025x03x21_E3KI_F_P160_sagi_s001_0003.abf',\n",
              " '.\\\\2025x03x21_E3KI_F_P160_sagi_S001_0004.abf': '.\\\\2025x03x21_E3KI_F_P160_sagi_s001_0004.abf',\n",
              " '.\\\\2025x03x21_E3KI_F_P160_sagi_S001_0005.abf': '.\\\\2025x03x21_E3KI_F_P160_sagi_s001_0005.abf',\n",
              " '.\\\\2025x03x21_E3KI_F_P160_sagi_S001_0006.abf': '.\\\\2025x03x21_E3KI_F_P160_sagi_s001_0006.abf',\n",
              " '.\\\\2025x03x21_E3KI_F_P160_sagi_S001_0007.abf': '.\\\\2025x03x21_E3KI_F_P160_sagi_s001_0007.abf',\n",
              " '.\\\\2025x03x21_E3KI_F_P160_sagi_S001_0008.abf': '.\\\\2025x03x21_E3KI_F_P160_sagi_s001_0008.abf',\n",
              " '.\\\\2025x03x21_E3KI_F_P160_sagi_S001_0009.abf': '.\\\\2025x03x21_E3KI_F_P160_sagi_s001_0009.abf',\n",
              " '.\\\\2025x03x21_E3KI_F_P160_sagi_S001_0010.abf': '.\\\\2025x03x21_E3KI_F_P160_sagi_s001_0010.abf',\n",
              " '.\\\\2025x03x21_E3KI_F_P160_sagi_S002_0000.abf': '.\\\\2025x03x21_E3KI_F_P160_sagi_s002_0000.abf',\n",
              " '.\\\\2025x03x21_E3KI_F_P160_sagi_S002_0001.abf': '.\\\\2025x03x21_E3KI_F_P160_sagi_s002_0001.abf',\n",
              " '.\\\\2025x03x21_E3KI_F_P160_sagi_S002_0002.abf': '.\\\\2025x03x21_E3KI_F_P160_sagi_s002_0002.abf',\n",
              " '.\\\\2025x03x21_E3KI_F_P160_sagi_S002_0003.abf': '.\\\\2025x03x21_E3KI_F_P160_sagi_s002_0003.abf',\n",
              " '.\\\\2025x03x21_E3KI_F_P160_sagi_S002_0004.abf': '.\\\\2025x03x21_E3KI_F_P160_sagi_s002_0004.abf',\n",
              " '.\\\\2025x03x21_E3KI_F_P160_sagi_S002_0005.abf': '.\\\\2025x03x21_E3KI_F_P160_sagi_s002_0005.abf',\n",
              " '.\\\\2025x03x21_E3KI_F_P160_sagi_S002_0006.abf': '.\\\\2025x03x21_E3KI_F_P160_sagi_s002_0006.abf',\n",
              " '.\\\\2025x03x21_E3KI_F_P160_sagi_S002_0007.abf': '.\\\\2025x03x21_E3KI_F_P160_sagi_s002_0007.abf',\n",
              " '.\\\\2025x03x21_E3KI_F_P160_sagi_S002_0008.abf': '.\\\\2025x03x21_E3KI_F_P160_sagi_s002_0008.abf'}"
            ]
          },
          "metadata": {}
        }
      ]
    },
    {
      "cell_type": "code",
      "source": [
        "cwd = os.getcwd()\n",
        "print(cwd)\n",
        "dest_dir = '.\\_NameCorrectionConsolidation'\n",
        "os.makedirs(dest_dir,exist_ok=True)"
      ],
      "metadata": {
        "id": "LVvePFHxSeVy",
        "outputId": "41fd5eb1-6da7-473b-9e62-c6b26447e838",
        "colab": {
          "base_uri": "https://localhost:8080/"
        }
      },
      "execution_count": 39,
      "outputs": [
        {
          "output_type": "stream",
          "name": "stdout",
          "text": [
            "C:\\Users\\dennis.tabuena\\Gladstone Dropbox\\Dennis Tabuena\\_Colab_OutBox\\For Yoshi\\2HG\\Recs\\2025x03x21_\n"
          ]
        }
      ]
    },
    {
      "cell_type": "code",
      "source": [
        "for src, dst in file_conversion_dict.items():\n",
        "    src = os.path.join(cwd,src[2:])\n",
        "    dst = os.path.join(dest_dir,dst[2:])\n",
        "    # dst = os.path.join('.',dest_dir,dst[2:])\n",
        "\n",
        "    print(src)\n",
        "    print(dst)\n",
        "    new_dir = os.path.split(dst)[0]\n",
        "    print(new_dir)\n",
        "    if not os.path.exists(new_dir):\n",
        "        os.makedirs(new_dir)\n",
        "    shutil.copy2(src, dst)\n",
        "\n"
      ],
      "metadata": {
        "colab": {
          "base_uri": "https://localhost:8080/"
        },
        "id": "BOnwwujKGe5Q",
        "outputId": "f9296655-a498-40fb-d6d8-5b4dacbee9de"
      },
      "execution_count": 40,
      "outputs": [
        {
          "output_type": "stream",
          "name": "stdout",
          "text": [
            "C:\\Users\\dennis.tabuena\\Gladstone Dropbox\\Dennis Tabuena\\_Colab_OutBox\\For Yoshi\\2HG\\Recs\\2025x03x21_\\2025x03x21_E3KI_F_P160_sagi_S001_0000.abf\n",
            ".\\_NameCorrectionConsolidation\\2025x03x21_E3KI_F_P160_sagi_s001_0000.abf\n",
            ".\\_NameCorrectionConsolidation\n",
            "C:\\Users\\dennis.tabuena\\Gladstone Dropbox\\Dennis Tabuena\\_Colab_OutBox\\For Yoshi\\2HG\\Recs\\2025x03x21_\\2025x03x21_E3KI_F_P160_sagi_S001_0001.abf\n",
            ".\\_NameCorrectionConsolidation\\2025x03x21_E3KI_F_P160_sagi_s001_0001.abf\n",
            ".\\_NameCorrectionConsolidation\n",
            "C:\\Users\\dennis.tabuena\\Gladstone Dropbox\\Dennis Tabuena\\_Colab_OutBox\\For Yoshi\\2HG\\Recs\\2025x03x21_\\2025x03x21_E3KI_F_P160_sagi_S001_0002.abf\n",
            ".\\_NameCorrectionConsolidation\\2025x03x21_E3KI_F_P160_sagi_s001_0002.abf\n",
            ".\\_NameCorrectionConsolidation\n",
            "C:\\Users\\dennis.tabuena\\Gladstone Dropbox\\Dennis Tabuena\\_Colab_OutBox\\For Yoshi\\2HG\\Recs\\2025x03x21_\\2025x03x21_E3KI_F_P160_sagi_S001_0003.abf\n",
            ".\\_NameCorrectionConsolidation\\2025x03x21_E3KI_F_P160_sagi_s001_0003.abf\n",
            ".\\_NameCorrectionConsolidation\n",
            "C:\\Users\\dennis.tabuena\\Gladstone Dropbox\\Dennis Tabuena\\_Colab_OutBox\\For Yoshi\\2HG\\Recs\\2025x03x21_\\2025x03x21_E3KI_F_P160_sagi_S001_0004.abf\n",
            ".\\_NameCorrectionConsolidation\\2025x03x21_E3KI_F_P160_sagi_s001_0004.abf\n",
            ".\\_NameCorrectionConsolidation\n",
            "C:\\Users\\dennis.tabuena\\Gladstone Dropbox\\Dennis Tabuena\\_Colab_OutBox\\For Yoshi\\2HG\\Recs\\2025x03x21_\\2025x03x21_E3KI_F_P160_sagi_S001_0005.abf\n",
            ".\\_NameCorrectionConsolidation\\2025x03x21_E3KI_F_P160_sagi_s001_0005.abf\n",
            ".\\_NameCorrectionConsolidation\n",
            "C:\\Users\\dennis.tabuena\\Gladstone Dropbox\\Dennis Tabuena\\_Colab_OutBox\\For Yoshi\\2HG\\Recs\\2025x03x21_\\2025x03x21_E3KI_F_P160_sagi_S001_0006.abf\n",
            ".\\_NameCorrectionConsolidation\\2025x03x21_E3KI_F_P160_sagi_s001_0006.abf\n",
            ".\\_NameCorrectionConsolidation\n",
            "C:\\Users\\dennis.tabuena\\Gladstone Dropbox\\Dennis Tabuena\\_Colab_OutBox\\For Yoshi\\2HG\\Recs\\2025x03x21_\\2025x03x21_E3KI_F_P160_sagi_S001_0007.abf\n",
            ".\\_NameCorrectionConsolidation\\2025x03x21_E3KI_F_P160_sagi_s001_0007.abf\n",
            ".\\_NameCorrectionConsolidation\n",
            "C:\\Users\\dennis.tabuena\\Gladstone Dropbox\\Dennis Tabuena\\_Colab_OutBox\\For Yoshi\\2HG\\Recs\\2025x03x21_\\2025x03x21_E3KI_F_P160_sagi_S001_0008.abf\n",
            ".\\_NameCorrectionConsolidation\\2025x03x21_E3KI_F_P160_sagi_s001_0008.abf\n",
            ".\\_NameCorrectionConsolidation\n",
            "C:\\Users\\dennis.tabuena\\Gladstone Dropbox\\Dennis Tabuena\\_Colab_OutBox\\For Yoshi\\2HG\\Recs\\2025x03x21_\\2025x03x21_E3KI_F_P160_sagi_S001_0009.abf\n",
            ".\\_NameCorrectionConsolidation\\2025x03x21_E3KI_F_P160_sagi_s001_0009.abf\n",
            ".\\_NameCorrectionConsolidation\n",
            "C:\\Users\\dennis.tabuena\\Gladstone Dropbox\\Dennis Tabuena\\_Colab_OutBox\\For Yoshi\\2HG\\Recs\\2025x03x21_\\2025x03x21_E3KI_F_P160_sagi_S001_0010.abf\n",
            ".\\_NameCorrectionConsolidation\\2025x03x21_E3KI_F_P160_sagi_s001_0010.abf\n",
            ".\\_NameCorrectionConsolidation\n",
            "C:\\Users\\dennis.tabuena\\Gladstone Dropbox\\Dennis Tabuena\\_Colab_OutBox\\For Yoshi\\2HG\\Recs\\2025x03x21_\\2025x03x21_E3KI_F_P160_sagi_S002_0000.abf\n",
            ".\\_NameCorrectionConsolidation\\2025x03x21_E3KI_F_P160_sagi_s002_0000.abf\n",
            ".\\_NameCorrectionConsolidation\n",
            "C:\\Users\\dennis.tabuena\\Gladstone Dropbox\\Dennis Tabuena\\_Colab_OutBox\\For Yoshi\\2HG\\Recs\\2025x03x21_\\2025x03x21_E3KI_F_P160_sagi_S002_0001.abf\n",
            ".\\_NameCorrectionConsolidation\\2025x03x21_E3KI_F_P160_sagi_s002_0001.abf\n",
            ".\\_NameCorrectionConsolidation\n",
            "C:\\Users\\dennis.tabuena\\Gladstone Dropbox\\Dennis Tabuena\\_Colab_OutBox\\For Yoshi\\2HG\\Recs\\2025x03x21_\\2025x03x21_E3KI_F_P160_sagi_S002_0002.abf\n",
            ".\\_NameCorrectionConsolidation\\2025x03x21_E3KI_F_P160_sagi_s002_0002.abf\n",
            ".\\_NameCorrectionConsolidation\n",
            "C:\\Users\\dennis.tabuena\\Gladstone Dropbox\\Dennis Tabuena\\_Colab_OutBox\\For Yoshi\\2HG\\Recs\\2025x03x21_\\2025x03x21_E3KI_F_P160_sagi_S002_0003.abf\n",
            ".\\_NameCorrectionConsolidation\\2025x03x21_E3KI_F_P160_sagi_s002_0003.abf\n",
            ".\\_NameCorrectionConsolidation\n",
            "C:\\Users\\dennis.tabuena\\Gladstone Dropbox\\Dennis Tabuena\\_Colab_OutBox\\For Yoshi\\2HG\\Recs\\2025x03x21_\\2025x03x21_E3KI_F_P160_sagi_S002_0004.abf\n",
            ".\\_NameCorrectionConsolidation\\2025x03x21_E3KI_F_P160_sagi_s002_0004.abf\n",
            ".\\_NameCorrectionConsolidation\n",
            "C:\\Users\\dennis.tabuena\\Gladstone Dropbox\\Dennis Tabuena\\_Colab_OutBox\\For Yoshi\\2HG\\Recs\\2025x03x21_\\2025x03x21_E3KI_F_P160_sagi_S002_0005.abf\n",
            ".\\_NameCorrectionConsolidation\\2025x03x21_E3KI_F_P160_sagi_s002_0005.abf\n",
            ".\\_NameCorrectionConsolidation\n",
            "C:\\Users\\dennis.tabuena\\Gladstone Dropbox\\Dennis Tabuena\\_Colab_OutBox\\For Yoshi\\2HG\\Recs\\2025x03x21_\\2025x03x21_E3KI_F_P160_sagi_S002_0006.abf\n",
            ".\\_NameCorrectionConsolidation\\2025x03x21_E3KI_F_P160_sagi_s002_0006.abf\n",
            ".\\_NameCorrectionConsolidation\n",
            "C:\\Users\\dennis.tabuena\\Gladstone Dropbox\\Dennis Tabuena\\_Colab_OutBox\\For Yoshi\\2HG\\Recs\\2025x03x21_\\2025x03x21_E3KI_F_P160_sagi_S002_0007.abf\n",
            ".\\_NameCorrectionConsolidation\\2025x03x21_E3KI_F_P160_sagi_s002_0007.abf\n",
            ".\\_NameCorrectionConsolidation\n",
            "C:\\Users\\dennis.tabuena\\Gladstone Dropbox\\Dennis Tabuena\\_Colab_OutBox\\For Yoshi\\2HG\\Recs\\2025x03x21_\\2025x03x21_E3KI_F_P160_sagi_S002_0008.abf\n",
            ".\\_NameCorrectionConsolidation\\2025x03x21_E3KI_F_P160_sagi_s002_0008.abf\n",
            ".\\_NameCorrectionConsolidation\n"
          ]
        }
      ]
    }
  ]
}