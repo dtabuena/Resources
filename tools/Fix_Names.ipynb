{
  "nbformat": 4,
  "nbformat_minor": 0,
  "metadata": {
    "colab": {
      "provenance": [],
      "authorship_tag": "ABX9TyP6Sm3HprUnqOws+Cnz9FK5",
      "include_colab_link": true
    },
    "kernelspec": {
      "name": "python3",
      "display_name": "Python 3"
    },
    "language_info": {
      "name": "python"
    }
  },
  "cells": [
    {
      "cell_type": "markdown",
      "metadata": {
        "id": "view-in-github",
        "colab_type": "text"
      },
      "source": [
        "<a href=\"https://colab.research.google.com/github/dtabuena/Resources/blob/main/tools/Fix_Names.ipynb\" target=\"_parent\"><img src=\"https://colab.research.google.com/assets/colab-badge.svg\" alt=\"Open In Colab\"/></a>"
      ]
    },
    {
      "cell_type": "code",
      "execution_count": 1,
      "metadata": {
        "id": "Kjux4a0J9MOD"
      },
      "outputs": [],
      "source": [
        "import os\n",
        "import pandas as pd\n",
        "import shutil\n",
        "\n"
      ]
    },
    {
      "cell_type": "code",
      "source": [
        "source_dir = r\"C:\\Users\\dennis.tabuena\\Gladstone Dropbox\\Dennis Tabuena\\6_Recordings\\Today\\2025x01x08_E3KI_F_P238_\"\n",
        "print(source_dir)"
      ],
      "metadata": {
        "colab": {
          "base_uri": "https://localhost:8080/"
        },
        "id": "GxZyLCoL9Pmn",
        "outputId": "a4196c39-14ff-4db6-d63f-223026f59bab"
      },
      "execution_count": 22,
      "outputs": [
        {
          "output_type": "stream",
          "name": "stdout",
          "text": [
            "C:\\Users\\dennis.tabuena\\Gladstone Dropbox\\Dennis Tabuena\\6_Recordings\\Today\\2025x01x08_E3KI_F_P238_\n"
          ]
        }
      ]
    },
    {
      "cell_type": "code",
      "source": [
        "os.chdir(source_dir)\n",
        "file_list =list()\n",
        "\n",
        "\n",
        "for root, dirs, files in os.walk(\".\", topdown=False):\n",
        "    for file in files:\n",
        "        file_list.append(os.path.join(root,file))\n",
        "print(file_list)\n",
        "\n"
      ],
      "metadata": {
        "id": "LgT3tR3g-Fth",
        "colab": {
          "base_uri": "https://localhost:8080/"
        },
        "outputId": "c014d9e2-e8a3-4ac9-ac60-f61e558475a0"
      },
      "execution_count": 23,
      "outputs": [
        {
          "output_type": "stream",
          "name": "stdout",
          "text": [
            "['.\\\\2025x01x08_E3KI_F_P238_s001_0000.sta', '.\\\\2025x01x08_E3KI_F_P238_s001_0001.abf', '.\\\\2025x01x08_E3KI_F_P238_s001_0001.sta', '.\\\\2025x01x08_E3KI_F_P238_s001_0002.abf', '.\\\\2025x01x08_E3KI_F_P238_s001_0003.abf', '.\\\\2025x01x08_E3KI_F_P238_s001_0004.abf', '.\\\\2025x01x08_E3KI_F_P238_s001_0005.abf', '.\\\\2025x01x08_E3KI_F_P238_s001_0006.abf', '.\\\\2025x01x08_E3KI_F_P238_s001_0007.abf', '.\\\\2025x01x08_E3KI_F_P238_s001_0008.abf', '.\\\\2025x01x08_E3KI_F_P238_s001_0009.abf', '.\\\\2025x01x08_E3KI_F_P238_s001_0010.abf', '.\\\\2025x01x08_E3KI_F_P238_s001_0011.abf', '.\\\\2025x01x08_E3KI_F_P238_s002_0000.abf', '.\\\\2025x01x08_E3KI_F_P238_s002_0000.sta', '.\\\\2025x01x08_E3KI_F_P238_s002_0001.abf', '.\\\\2025x01x08_E3KI_F_P238_s002_0001.sta', '.\\\\2025x01x08_E3KI_F_P238_s002_0002.abf', '.\\\\2025x01x08_E3KI_F_P238_s002_0002.sta', '.\\\\2025x01x08_E3KI_F_P238_s002_0003.abf', '.\\\\2025x01x08_E3KI_F_P238_s002_0004.abf', '.\\\\2025x01x08_E3KI_F_P238_s002_0005.abf', '.\\\\2025x01x08_E3KI_F_P238_s002_0006.abf', '.\\\\2025x01x08_E3KI_F_P238_s002_0007.abf', '.\\\\2025x01x08_E3KI_F_P238_s002_0008.abf', '.\\\\2025x01x08_E3KI_F_P238_s003_0000.abf', '.\\\\2025x01x08_E3KI_F_P238_s003_0000.sta', '.\\\\2025x01x08_E3KI_F_P238_s003_0001.abf', '.\\\\2025x01x08_E3KI_F_P238_s003_0001.sta', '.\\\\2025x01x08_E3KI_F_P238_s003_0002.abf', '.\\\\2025x01x08_E3KI_F_P238_s003_0003.abf', '.\\\\2025x01x08_E3KI_F_P238_s003_0004.abf', '.\\\\2025x01x08_E3KI_F_P238_s003_0005.abf', '.\\\\2025x01x08_E3KI_F_P238_s003_0006.abf', '.\\\\2025x01x08_E3KI_F_P238_s003_0006.rsv', '.\\\\2025x01x08_E3KI_F_P238_s003_0007.abf', '.\\\\2025x01x08_E3KI_F_P238_s003_0008.abf', '.\\\\2025x01x08_E3KI_F_P238_s003_0009.abf', '.\\\\2025x01x08_E3KI_F_P238_s003_0010.abf', '.\\\\2025x01x08_E3KI_F_P238_s003_0011.abf', '.\\\\2025x01x08_E3KI_F_P238_sagi_s001_0000.abf', '.\\\\OLD_NAMES.zip']\n"
          ]
        }
      ]
    },
    {
      "cell_type": "code",
      "source": [
        "def convert(file_path):\n",
        "    \"sample = 2024x05x10_E3KI_F_P258_sagi_s001_c001_DGC_0000.abf\"\n",
        "    if \"sagi\" not in file_path:\n",
        "        file_path = file_path.replace('s0','sagi_s0')\n",
        "    return file_path\n",
        "file_conversion_dict = {f:convert(f) for f in file_list}\n",
        "display(file_conversion_dict)"
      ],
      "metadata": {
        "colab": {
          "base_uri": "https://localhost:8080/",
          "height": 746
        },
        "id": "abghmV_JEzUl",
        "outputId": "e210b122-c84a-45e0-f559-e3b84faf12f1"
      },
      "execution_count": 24,
      "outputs": [
        {
          "output_type": "display_data",
          "data": {
            "text/plain": [
              "{'.\\\\2025x01x08_E3KI_F_P238_s001_0000.sta': '.\\\\2025x01x08_E3KI_F_P238_sagi_s001_0000.sta',\n",
              " '.\\\\2025x01x08_E3KI_F_P238_s001_0001.abf': '.\\\\2025x01x08_E3KI_F_P238_sagi_s001_0001.abf',\n",
              " '.\\\\2025x01x08_E3KI_F_P238_s001_0001.sta': '.\\\\2025x01x08_E3KI_F_P238_sagi_s001_0001.sta',\n",
              " '.\\\\2025x01x08_E3KI_F_P238_s001_0002.abf': '.\\\\2025x01x08_E3KI_F_P238_sagi_s001_0002.abf',\n",
              " '.\\\\2025x01x08_E3KI_F_P238_s001_0003.abf': '.\\\\2025x01x08_E3KI_F_P238_sagi_s001_0003.abf',\n",
              " '.\\\\2025x01x08_E3KI_F_P238_s001_0004.abf': '.\\\\2025x01x08_E3KI_F_P238_sagi_s001_0004.abf',\n",
              " '.\\\\2025x01x08_E3KI_F_P238_s001_0005.abf': '.\\\\2025x01x08_E3KI_F_P238_sagi_s001_0005.abf',\n",
              " '.\\\\2025x01x08_E3KI_F_P238_s001_0006.abf': '.\\\\2025x01x08_E3KI_F_P238_sagi_s001_0006.abf',\n",
              " '.\\\\2025x01x08_E3KI_F_P238_s001_0007.abf': '.\\\\2025x01x08_E3KI_F_P238_sagi_s001_0007.abf',\n",
              " '.\\\\2025x01x08_E3KI_F_P238_s001_0008.abf': '.\\\\2025x01x08_E3KI_F_P238_sagi_s001_0008.abf',\n",
              " '.\\\\2025x01x08_E3KI_F_P238_s001_0009.abf': '.\\\\2025x01x08_E3KI_F_P238_sagi_s001_0009.abf',\n",
              " '.\\\\2025x01x08_E3KI_F_P238_s001_0010.abf': '.\\\\2025x01x08_E3KI_F_P238_sagi_s001_0010.abf',\n",
              " '.\\\\2025x01x08_E3KI_F_P238_s001_0011.abf': '.\\\\2025x01x08_E3KI_F_P238_sagi_s001_0011.abf',\n",
              " '.\\\\2025x01x08_E3KI_F_P238_s002_0000.abf': '.\\\\2025x01x08_E3KI_F_P238_sagi_s002_0000.abf',\n",
              " '.\\\\2025x01x08_E3KI_F_P238_s002_0000.sta': '.\\\\2025x01x08_E3KI_F_P238_sagi_s002_0000.sta',\n",
              " '.\\\\2025x01x08_E3KI_F_P238_s002_0001.abf': '.\\\\2025x01x08_E3KI_F_P238_sagi_s002_0001.abf',\n",
              " '.\\\\2025x01x08_E3KI_F_P238_s002_0001.sta': '.\\\\2025x01x08_E3KI_F_P238_sagi_s002_0001.sta',\n",
              " '.\\\\2025x01x08_E3KI_F_P238_s002_0002.abf': '.\\\\2025x01x08_E3KI_F_P238_sagi_s002_0002.abf',\n",
              " '.\\\\2025x01x08_E3KI_F_P238_s002_0002.sta': '.\\\\2025x01x08_E3KI_F_P238_sagi_s002_0002.sta',\n",
              " '.\\\\2025x01x08_E3KI_F_P238_s002_0003.abf': '.\\\\2025x01x08_E3KI_F_P238_sagi_s002_0003.abf',\n",
              " '.\\\\2025x01x08_E3KI_F_P238_s002_0004.abf': '.\\\\2025x01x08_E3KI_F_P238_sagi_s002_0004.abf',\n",
              " '.\\\\2025x01x08_E3KI_F_P238_s002_0005.abf': '.\\\\2025x01x08_E3KI_F_P238_sagi_s002_0005.abf',\n",
              " '.\\\\2025x01x08_E3KI_F_P238_s002_0006.abf': '.\\\\2025x01x08_E3KI_F_P238_sagi_s002_0006.abf',\n",
              " '.\\\\2025x01x08_E3KI_F_P238_s002_0007.abf': '.\\\\2025x01x08_E3KI_F_P238_sagi_s002_0007.abf',\n",
              " '.\\\\2025x01x08_E3KI_F_P238_s002_0008.abf': '.\\\\2025x01x08_E3KI_F_P238_sagi_s002_0008.abf',\n",
              " '.\\\\2025x01x08_E3KI_F_P238_s003_0000.abf': '.\\\\2025x01x08_E3KI_F_P238_sagi_s003_0000.abf',\n",
              " '.\\\\2025x01x08_E3KI_F_P238_s003_0000.sta': '.\\\\2025x01x08_E3KI_F_P238_sagi_s003_0000.sta',\n",
              " '.\\\\2025x01x08_E3KI_F_P238_s003_0001.abf': '.\\\\2025x01x08_E3KI_F_P238_sagi_s003_0001.abf',\n",
              " '.\\\\2025x01x08_E3KI_F_P238_s003_0001.sta': '.\\\\2025x01x08_E3KI_F_P238_sagi_s003_0001.sta',\n",
              " '.\\\\2025x01x08_E3KI_F_P238_s003_0002.abf': '.\\\\2025x01x08_E3KI_F_P238_sagi_s003_0002.abf',\n",
              " '.\\\\2025x01x08_E3KI_F_P238_s003_0003.abf': '.\\\\2025x01x08_E3KI_F_P238_sagi_s003_0003.abf',\n",
              " '.\\\\2025x01x08_E3KI_F_P238_s003_0004.abf': '.\\\\2025x01x08_E3KI_F_P238_sagi_s003_0004.abf',\n",
              " '.\\\\2025x01x08_E3KI_F_P238_s003_0005.abf': '.\\\\2025x01x08_E3KI_F_P238_sagi_s003_0005.abf',\n",
              " '.\\\\2025x01x08_E3KI_F_P238_s003_0006.abf': '.\\\\2025x01x08_E3KI_F_P238_sagi_s003_0006.abf',\n",
              " '.\\\\2025x01x08_E3KI_F_P238_s003_0006.rsv': '.\\\\2025x01x08_E3KI_F_P238_sagi_s003_0006.rsv',\n",
              " '.\\\\2025x01x08_E3KI_F_P238_s003_0007.abf': '.\\\\2025x01x08_E3KI_F_P238_sagi_s003_0007.abf',\n",
              " '.\\\\2025x01x08_E3KI_F_P238_s003_0008.abf': '.\\\\2025x01x08_E3KI_F_P238_sagi_s003_0008.abf',\n",
              " '.\\\\2025x01x08_E3KI_F_P238_s003_0009.abf': '.\\\\2025x01x08_E3KI_F_P238_sagi_s003_0009.abf',\n",
              " '.\\\\2025x01x08_E3KI_F_P238_s003_0010.abf': '.\\\\2025x01x08_E3KI_F_P238_sagi_s003_0010.abf',\n",
              " '.\\\\2025x01x08_E3KI_F_P238_s003_0011.abf': '.\\\\2025x01x08_E3KI_F_P238_sagi_s003_0011.abf',\n",
              " '.\\\\2025x01x08_E3KI_F_P238_sagi_s001_0000.abf': '.\\\\2025x01x08_E3KI_F_P238_sagi_s001_0000.abf',\n",
              " '.\\\\OLD_NAMES.zip': '.\\\\OLD_NAMES.zip'}"
            ]
          },
          "metadata": {}
        }
      ]
    },
    {
      "cell_type": "code",
      "source": [
        "cwd = os.getcwd()\n",
        "print(cwd)\n",
        "dest_dir = '.\\_NameCorrectionConsolidation'\n",
        "os.makedirs(dest_dir,exist_ok=True)"
      ],
      "metadata": {
        "id": "LVvePFHxSeVy",
        "outputId": "47c96804-7eaf-4ff6-e427-03c842bbe5fb",
        "colab": {
          "base_uri": "https://localhost:8080/"
        }
      },
      "execution_count": 25,
      "outputs": [
        {
          "output_type": "stream",
          "name": "stdout",
          "text": [
            "C:\\Users\\dennis.tabuena\\Gladstone Dropbox\\Dennis Tabuena\\6_Recordings\\Today\\2025x01x08_E3KI_F_P238_\n"
          ]
        }
      ]
    },
    {
      "cell_type": "code",
      "source": [
        "for src, dst in file_conversion_dict.items():\n",
        "    src = os.path.join(cwd,src[2:])\n",
        "    dst = os.path.join(dest_dir,dst[2:])\n",
        "    # dst = os.path.join('.',dest_dir,dst[2:])\n",
        "\n",
        "    print(src)\n",
        "    print(dst)\n",
        "    new_dir = os.path.split(dst)[0]\n",
        "    print(new_dir)\n",
        "    if not os.path.exists(new_dir):\n",
        "        os.makedirs(new_dir)\n",
        "    shutil.copy2(src, dst)\n",
        "\n"
      ],
      "metadata": {
        "colab": {
          "base_uri": "https://localhost:8080/"
        },
        "id": "BOnwwujKGe5Q",
        "outputId": "c4563760-75ca-46d7-fb7a-3254cf3feb01"
      },
      "execution_count": 26,
      "outputs": [
        {
          "output_type": "stream",
          "name": "stdout",
          "text": [
            "C:\\Users\\dennis.tabuena\\Gladstone Dropbox\\Dennis Tabuena\\6_Recordings\\Today\\2025x01x08_E3KI_F_P238_\\2025x01x08_E3KI_F_P238_s001_0000.sta\n",
            ".\\_NameCorrectionConsolidation\\2025x01x08_E3KI_F_P238_sagi_s001_0000.sta\n",
            ".\\_NameCorrectionConsolidation\n",
            "C:\\Users\\dennis.tabuena\\Gladstone Dropbox\\Dennis Tabuena\\6_Recordings\\Today\\2025x01x08_E3KI_F_P238_\\2025x01x08_E3KI_F_P238_s001_0001.abf\n",
            ".\\_NameCorrectionConsolidation\\2025x01x08_E3KI_F_P238_sagi_s001_0001.abf\n",
            ".\\_NameCorrectionConsolidation\n",
            "C:\\Users\\dennis.tabuena\\Gladstone Dropbox\\Dennis Tabuena\\6_Recordings\\Today\\2025x01x08_E3KI_F_P238_\\2025x01x08_E3KI_F_P238_s001_0001.sta\n",
            ".\\_NameCorrectionConsolidation\\2025x01x08_E3KI_F_P238_sagi_s001_0001.sta\n",
            ".\\_NameCorrectionConsolidation\n",
            "C:\\Users\\dennis.tabuena\\Gladstone Dropbox\\Dennis Tabuena\\6_Recordings\\Today\\2025x01x08_E3KI_F_P238_\\2025x01x08_E3KI_F_P238_s001_0002.abf\n",
            ".\\_NameCorrectionConsolidation\\2025x01x08_E3KI_F_P238_sagi_s001_0002.abf\n",
            ".\\_NameCorrectionConsolidation\n",
            "C:\\Users\\dennis.tabuena\\Gladstone Dropbox\\Dennis Tabuena\\6_Recordings\\Today\\2025x01x08_E3KI_F_P238_\\2025x01x08_E3KI_F_P238_s001_0003.abf\n",
            ".\\_NameCorrectionConsolidation\\2025x01x08_E3KI_F_P238_sagi_s001_0003.abf\n",
            ".\\_NameCorrectionConsolidation\n",
            "C:\\Users\\dennis.tabuena\\Gladstone Dropbox\\Dennis Tabuena\\6_Recordings\\Today\\2025x01x08_E3KI_F_P238_\\2025x01x08_E3KI_F_P238_s001_0004.abf\n",
            ".\\_NameCorrectionConsolidation\\2025x01x08_E3KI_F_P238_sagi_s001_0004.abf\n",
            ".\\_NameCorrectionConsolidation\n",
            "C:\\Users\\dennis.tabuena\\Gladstone Dropbox\\Dennis Tabuena\\6_Recordings\\Today\\2025x01x08_E3KI_F_P238_\\2025x01x08_E3KI_F_P238_s001_0005.abf\n",
            ".\\_NameCorrectionConsolidation\\2025x01x08_E3KI_F_P238_sagi_s001_0005.abf\n",
            ".\\_NameCorrectionConsolidation\n",
            "C:\\Users\\dennis.tabuena\\Gladstone Dropbox\\Dennis Tabuena\\6_Recordings\\Today\\2025x01x08_E3KI_F_P238_\\2025x01x08_E3KI_F_P238_s001_0006.abf\n",
            ".\\_NameCorrectionConsolidation\\2025x01x08_E3KI_F_P238_sagi_s001_0006.abf\n",
            ".\\_NameCorrectionConsolidation\n",
            "C:\\Users\\dennis.tabuena\\Gladstone Dropbox\\Dennis Tabuena\\6_Recordings\\Today\\2025x01x08_E3KI_F_P238_\\2025x01x08_E3KI_F_P238_s001_0007.abf\n",
            ".\\_NameCorrectionConsolidation\\2025x01x08_E3KI_F_P238_sagi_s001_0007.abf\n",
            ".\\_NameCorrectionConsolidation\n",
            "C:\\Users\\dennis.tabuena\\Gladstone Dropbox\\Dennis Tabuena\\6_Recordings\\Today\\2025x01x08_E3KI_F_P238_\\2025x01x08_E3KI_F_P238_s001_0008.abf\n",
            ".\\_NameCorrectionConsolidation\\2025x01x08_E3KI_F_P238_sagi_s001_0008.abf\n",
            ".\\_NameCorrectionConsolidation\n",
            "C:\\Users\\dennis.tabuena\\Gladstone Dropbox\\Dennis Tabuena\\6_Recordings\\Today\\2025x01x08_E3KI_F_P238_\\2025x01x08_E3KI_F_P238_s001_0009.abf\n",
            ".\\_NameCorrectionConsolidation\\2025x01x08_E3KI_F_P238_sagi_s001_0009.abf\n",
            ".\\_NameCorrectionConsolidation\n",
            "C:\\Users\\dennis.tabuena\\Gladstone Dropbox\\Dennis Tabuena\\6_Recordings\\Today\\2025x01x08_E3KI_F_P238_\\2025x01x08_E3KI_F_P238_s001_0010.abf\n",
            ".\\_NameCorrectionConsolidation\\2025x01x08_E3KI_F_P238_sagi_s001_0010.abf\n",
            ".\\_NameCorrectionConsolidation\n",
            "C:\\Users\\dennis.tabuena\\Gladstone Dropbox\\Dennis Tabuena\\6_Recordings\\Today\\2025x01x08_E3KI_F_P238_\\2025x01x08_E3KI_F_P238_s001_0011.abf\n",
            ".\\_NameCorrectionConsolidation\\2025x01x08_E3KI_F_P238_sagi_s001_0011.abf\n",
            ".\\_NameCorrectionConsolidation\n",
            "C:\\Users\\dennis.tabuena\\Gladstone Dropbox\\Dennis Tabuena\\6_Recordings\\Today\\2025x01x08_E3KI_F_P238_\\2025x01x08_E3KI_F_P238_s002_0000.abf\n",
            ".\\_NameCorrectionConsolidation\\2025x01x08_E3KI_F_P238_sagi_s002_0000.abf\n",
            ".\\_NameCorrectionConsolidation\n",
            "C:\\Users\\dennis.tabuena\\Gladstone Dropbox\\Dennis Tabuena\\6_Recordings\\Today\\2025x01x08_E3KI_F_P238_\\2025x01x08_E3KI_F_P238_s002_0000.sta\n",
            ".\\_NameCorrectionConsolidation\\2025x01x08_E3KI_F_P238_sagi_s002_0000.sta\n",
            ".\\_NameCorrectionConsolidation\n",
            "C:\\Users\\dennis.tabuena\\Gladstone Dropbox\\Dennis Tabuena\\6_Recordings\\Today\\2025x01x08_E3KI_F_P238_\\2025x01x08_E3KI_F_P238_s002_0001.abf\n",
            ".\\_NameCorrectionConsolidation\\2025x01x08_E3KI_F_P238_sagi_s002_0001.abf\n",
            ".\\_NameCorrectionConsolidation\n",
            "C:\\Users\\dennis.tabuena\\Gladstone Dropbox\\Dennis Tabuena\\6_Recordings\\Today\\2025x01x08_E3KI_F_P238_\\2025x01x08_E3KI_F_P238_s002_0001.sta\n",
            ".\\_NameCorrectionConsolidation\\2025x01x08_E3KI_F_P238_sagi_s002_0001.sta\n",
            ".\\_NameCorrectionConsolidation\n",
            "C:\\Users\\dennis.tabuena\\Gladstone Dropbox\\Dennis Tabuena\\6_Recordings\\Today\\2025x01x08_E3KI_F_P238_\\2025x01x08_E3KI_F_P238_s002_0002.abf\n",
            ".\\_NameCorrectionConsolidation\\2025x01x08_E3KI_F_P238_sagi_s002_0002.abf\n",
            ".\\_NameCorrectionConsolidation\n",
            "C:\\Users\\dennis.tabuena\\Gladstone Dropbox\\Dennis Tabuena\\6_Recordings\\Today\\2025x01x08_E3KI_F_P238_\\2025x01x08_E3KI_F_P238_s002_0002.sta\n",
            ".\\_NameCorrectionConsolidation\\2025x01x08_E3KI_F_P238_sagi_s002_0002.sta\n",
            ".\\_NameCorrectionConsolidation\n",
            "C:\\Users\\dennis.tabuena\\Gladstone Dropbox\\Dennis Tabuena\\6_Recordings\\Today\\2025x01x08_E3KI_F_P238_\\2025x01x08_E3KI_F_P238_s002_0003.abf\n",
            ".\\_NameCorrectionConsolidation\\2025x01x08_E3KI_F_P238_sagi_s002_0003.abf\n",
            ".\\_NameCorrectionConsolidation\n",
            "C:\\Users\\dennis.tabuena\\Gladstone Dropbox\\Dennis Tabuena\\6_Recordings\\Today\\2025x01x08_E3KI_F_P238_\\2025x01x08_E3KI_F_P238_s002_0004.abf\n",
            ".\\_NameCorrectionConsolidation\\2025x01x08_E3KI_F_P238_sagi_s002_0004.abf\n",
            ".\\_NameCorrectionConsolidation\n",
            "C:\\Users\\dennis.tabuena\\Gladstone Dropbox\\Dennis Tabuena\\6_Recordings\\Today\\2025x01x08_E3KI_F_P238_\\2025x01x08_E3KI_F_P238_s002_0005.abf\n",
            ".\\_NameCorrectionConsolidation\\2025x01x08_E3KI_F_P238_sagi_s002_0005.abf\n",
            ".\\_NameCorrectionConsolidation\n",
            "C:\\Users\\dennis.tabuena\\Gladstone Dropbox\\Dennis Tabuena\\6_Recordings\\Today\\2025x01x08_E3KI_F_P238_\\2025x01x08_E3KI_F_P238_s002_0006.abf\n",
            ".\\_NameCorrectionConsolidation\\2025x01x08_E3KI_F_P238_sagi_s002_0006.abf\n",
            ".\\_NameCorrectionConsolidation\n",
            "C:\\Users\\dennis.tabuena\\Gladstone Dropbox\\Dennis Tabuena\\6_Recordings\\Today\\2025x01x08_E3KI_F_P238_\\2025x01x08_E3KI_F_P238_s002_0007.abf\n",
            ".\\_NameCorrectionConsolidation\\2025x01x08_E3KI_F_P238_sagi_s002_0007.abf\n",
            ".\\_NameCorrectionConsolidation\n",
            "C:\\Users\\dennis.tabuena\\Gladstone Dropbox\\Dennis Tabuena\\6_Recordings\\Today\\2025x01x08_E3KI_F_P238_\\2025x01x08_E3KI_F_P238_s002_0008.abf\n",
            ".\\_NameCorrectionConsolidation\\2025x01x08_E3KI_F_P238_sagi_s002_0008.abf\n",
            ".\\_NameCorrectionConsolidation\n",
            "C:\\Users\\dennis.tabuena\\Gladstone Dropbox\\Dennis Tabuena\\6_Recordings\\Today\\2025x01x08_E3KI_F_P238_\\2025x01x08_E3KI_F_P238_s003_0000.abf\n",
            ".\\_NameCorrectionConsolidation\\2025x01x08_E3KI_F_P238_sagi_s003_0000.abf\n",
            ".\\_NameCorrectionConsolidation\n",
            "C:\\Users\\dennis.tabuena\\Gladstone Dropbox\\Dennis Tabuena\\6_Recordings\\Today\\2025x01x08_E3KI_F_P238_\\2025x01x08_E3KI_F_P238_s003_0000.sta\n",
            ".\\_NameCorrectionConsolidation\\2025x01x08_E3KI_F_P238_sagi_s003_0000.sta\n",
            ".\\_NameCorrectionConsolidation\n",
            "C:\\Users\\dennis.tabuena\\Gladstone Dropbox\\Dennis Tabuena\\6_Recordings\\Today\\2025x01x08_E3KI_F_P238_\\2025x01x08_E3KI_F_P238_s003_0001.abf\n",
            ".\\_NameCorrectionConsolidation\\2025x01x08_E3KI_F_P238_sagi_s003_0001.abf\n",
            ".\\_NameCorrectionConsolidation\n",
            "C:\\Users\\dennis.tabuena\\Gladstone Dropbox\\Dennis Tabuena\\6_Recordings\\Today\\2025x01x08_E3KI_F_P238_\\2025x01x08_E3KI_F_P238_s003_0001.sta\n",
            ".\\_NameCorrectionConsolidation\\2025x01x08_E3KI_F_P238_sagi_s003_0001.sta\n",
            ".\\_NameCorrectionConsolidation\n",
            "C:\\Users\\dennis.tabuena\\Gladstone Dropbox\\Dennis Tabuena\\6_Recordings\\Today\\2025x01x08_E3KI_F_P238_\\2025x01x08_E3KI_F_P238_s003_0002.abf\n",
            ".\\_NameCorrectionConsolidation\\2025x01x08_E3KI_F_P238_sagi_s003_0002.abf\n",
            ".\\_NameCorrectionConsolidation\n",
            "C:\\Users\\dennis.tabuena\\Gladstone Dropbox\\Dennis Tabuena\\6_Recordings\\Today\\2025x01x08_E3KI_F_P238_\\2025x01x08_E3KI_F_P238_s003_0003.abf\n",
            ".\\_NameCorrectionConsolidation\\2025x01x08_E3KI_F_P238_sagi_s003_0003.abf\n",
            ".\\_NameCorrectionConsolidation\n",
            "C:\\Users\\dennis.tabuena\\Gladstone Dropbox\\Dennis Tabuena\\6_Recordings\\Today\\2025x01x08_E3KI_F_P238_\\2025x01x08_E3KI_F_P238_s003_0004.abf\n",
            ".\\_NameCorrectionConsolidation\\2025x01x08_E3KI_F_P238_sagi_s003_0004.abf\n",
            ".\\_NameCorrectionConsolidation\n",
            "C:\\Users\\dennis.tabuena\\Gladstone Dropbox\\Dennis Tabuena\\6_Recordings\\Today\\2025x01x08_E3KI_F_P238_\\2025x01x08_E3KI_F_P238_s003_0005.abf\n",
            ".\\_NameCorrectionConsolidation\\2025x01x08_E3KI_F_P238_sagi_s003_0005.abf\n",
            ".\\_NameCorrectionConsolidation\n",
            "C:\\Users\\dennis.tabuena\\Gladstone Dropbox\\Dennis Tabuena\\6_Recordings\\Today\\2025x01x08_E3KI_F_P238_\\2025x01x08_E3KI_F_P238_s003_0006.abf\n",
            ".\\_NameCorrectionConsolidation\\2025x01x08_E3KI_F_P238_sagi_s003_0006.abf\n",
            ".\\_NameCorrectionConsolidation\n",
            "C:\\Users\\dennis.tabuena\\Gladstone Dropbox\\Dennis Tabuena\\6_Recordings\\Today\\2025x01x08_E3KI_F_P238_\\2025x01x08_E3KI_F_P238_s003_0006.rsv\n",
            ".\\_NameCorrectionConsolidation\\2025x01x08_E3KI_F_P238_sagi_s003_0006.rsv\n",
            ".\\_NameCorrectionConsolidation\n",
            "C:\\Users\\dennis.tabuena\\Gladstone Dropbox\\Dennis Tabuena\\6_Recordings\\Today\\2025x01x08_E3KI_F_P238_\\2025x01x08_E3KI_F_P238_s003_0007.abf\n",
            ".\\_NameCorrectionConsolidation\\2025x01x08_E3KI_F_P238_sagi_s003_0007.abf\n",
            ".\\_NameCorrectionConsolidation\n",
            "C:\\Users\\dennis.tabuena\\Gladstone Dropbox\\Dennis Tabuena\\6_Recordings\\Today\\2025x01x08_E3KI_F_P238_\\2025x01x08_E3KI_F_P238_s003_0008.abf\n",
            ".\\_NameCorrectionConsolidation\\2025x01x08_E3KI_F_P238_sagi_s003_0008.abf\n",
            ".\\_NameCorrectionConsolidation\n",
            "C:\\Users\\dennis.tabuena\\Gladstone Dropbox\\Dennis Tabuena\\6_Recordings\\Today\\2025x01x08_E3KI_F_P238_\\2025x01x08_E3KI_F_P238_s003_0009.abf\n",
            ".\\_NameCorrectionConsolidation\\2025x01x08_E3KI_F_P238_sagi_s003_0009.abf\n",
            ".\\_NameCorrectionConsolidation\n",
            "C:\\Users\\dennis.tabuena\\Gladstone Dropbox\\Dennis Tabuena\\6_Recordings\\Today\\2025x01x08_E3KI_F_P238_\\2025x01x08_E3KI_F_P238_s003_0010.abf\n",
            ".\\_NameCorrectionConsolidation\\2025x01x08_E3KI_F_P238_sagi_s003_0010.abf\n",
            ".\\_NameCorrectionConsolidation\n",
            "C:\\Users\\dennis.tabuena\\Gladstone Dropbox\\Dennis Tabuena\\6_Recordings\\Today\\2025x01x08_E3KI_F_P238_\\2025x01x08_E3KI_F_P238_s003_0011.abf\n",
            ".\\_NameCorrectionConsolidation\\2025x01x08_E3KI_F_P238_sagi_s003_0011.abf\n",
            ".\\_NameCorrectionConsolidation\n",
            "C:\\Users\\dennis.tabuena\\Gladstone Dropbox\\Dennis Tabuena\\6_Recordings\\Today\\2025x01x08_E3KI_F_P238_\\2025x01x08_E3KI_F_P238_sagi_s001_0000.abf\n",
            ".\\_NameCorrectionConsolidation\\2025x01x08_E3KI_F_P238_sagi_s001_0000.abf\n",
            ".\\_NameCorrectionConsolidation\n",
            "C:\\Users\\dennis.tabuena\\Gladstone Dropbox\\Dennis Tabuena\\6_Recordings\\Today\\2025x01x08_E3KI_F_P238_\\OLD_NAMES.zip\n",
            ".\\_NameCorrectionConsolidation\\OLD_NAMES.zip\n",
            ".\\_NameCorrectionConsolidation\n"
          ]
        }
      ]
    }
  ]
}