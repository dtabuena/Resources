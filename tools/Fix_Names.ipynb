{
  "nbformat": 4,
  "nbformat_minor": 0,
  "metadata": {
    "colab": {
      "provenance": [],
      "authorship_tag": "ABX9TyPlCnL6yAIcT31sVRVrB9Jv",
      "include_colab_link": true
    },
    "kernelspec": {
      "name": "python3",
      "display_name": "Python 3"
    },
    "language_info": {
      "name": "python"
    }
  },
  "cells": [
    {
      "cell_type": "markdown",
      "metadata": {
        "id": "view-in-github",
        "colab_type": "text"
      },
      "source": [
        "<a href=\"https://colab.research.google.com/github/dtabuena/Resources/blob/main/tools/Fix_Names.ipynb\" target=\"_parent\"><img src=\"https://colab.research.google.com/assets/colab-badge.svg\" alt=\"Open In Colab\"/></a>"
      ]
    },
    {
      "cell_type": "code",
      "execution_count": 26,
      "metadata": {
        "id": "Kjux4a0J9MOD"
      },
      "outputs": [],
      "source": [
        "import os\n",
        "import pandas as pd\n",
        "import shutil\n",
        "\n"
      ]
    },
    {
      "cell_type": "code",
      "source": [
        "source_dir = r\"C:\\Users\\dennis.tabuena\\Gladstone Dropbox\\Dennis Tabuena\\_Colab_OutBox\\For Yoshi\\2HG\\Recs\\2025x03x21_\"\n",
        "print(source_dir)"
      ],
      "metadata": {
        "colab": {
          "base_uri": "https://localhost:8080/"
        },
        "id": "GxZyLCoL9Pmn",
        "outputId": "64c6ddba-c41f-4b2c-bb4e-88f1f516cee4"
      },
      "execution_count": 27,
      "outputs": [
        {
          "output_type": "stream",
          "name": "stdout",
          "text": [
            "C:\\Users\\dennis.tabuena\\Gladstone Dropbox\\Dennis Tabuena\\_Colab_OutBox\\For Yoshi\\2HG\\Recs\\2025x03x21_\n"
          ]
        }
      ]
    },
    {
      "cell_type": "code",
      "source": [
        "os.chdir(source_dir)\n",
        "file_list =list()\n",
        "\n",
        "\n",
        "for root, dirs, files in os.walk(\".\", topdown=False):\n",
        "    for file in files:\n",
        "        if 'abf' in file:\n",
        "            file_list.append(os.path.join(root,file))\n",
        "_ = [print(f) for f in file_list]\n",
        "# print(file_list)\n",
        "\n"
      ],
      "metadata": {
        "id": "LgT3tR3g-Fth",
        "colab": {
          "base_uri": "https://localhost:8080/"
        },
        "outputId": "ef93b3d4-0dad-46fa-b036-32e4f39ce20e"
      },
      "execution_count": 28,
      "outputs": [
        {
          "output_type": "stream",
          "name": "stdout",
          "text": [
            ".\\2025x03x21_E3KI_F_P160_sagi_S001_0000.abf\n",
            ".\\2025x03x21_E3KI_F_P160_sagi_S001_0001.abf\n",
            ".\\2025x03x21_E3KI_F_P160_sagi_S001_0002.abf\n",
            ".\\2025x03x21_E3KI_F_P160_sagi_S001_0003.abf\n",
            ".\\2025x03x21_E3KI_F_P160_sagi_S001_0004.abf\n",
            ".\\2025x03x21_E3KI_F_P160_sagi_S001_0005.abf\n",
            ".\\2025x03x21_E3KI_F_P160_sagi_S001_0006.abf\n",
            ".\\2025x03x21_E3KI_F_P160_sagi_S001_0007.abf\n",
            ".\\2025x03x21_E3KI_F_P160_sagi_S001_0008.abf\n",
            ".\\2025x03x21_E3KI_F_P160_sagi_S001_0009.abf\n",
            ".\\2025x03x21_E3KI_F_P160_sagi_S001_0010.abf\n",
            ".\\2025x03x21_E3KI_F_P160_sagi_S002_0000.abf\n",
            ".\\2025x03x21_E3KI_F_P160_sagi_S002_0001.abf\n",
            ".\\2025x03x21_E3KI_F_P160_sagi_S002_0002.abf\n",
            ".\\2025x03x21_E3KI_F_P160_sagi_S002_0003.abf\n",
            ".\\2025x03x21_E3KI_F_P160_sagi_S002_0004.abf\n",
            ".\\2025x03x21_E3KI_F_P160_sagi_S002_0005.abf\n",
            ".\\2025x03x21_E3KI_F_P160_sagi_S002_0006.abf\n",
            ".\\2025x03x21_E3KI_F_P160_sagi_S002_0007.abf\n",
            ".\\2025x03x21_E3KI_F_P160_sagi_S002_0008.abf\n"
          ]
        }
      ]
    },
    {
      "cell_type": "code",
      "source": [
        "\"2025x03x26_E4KI_F_P163_sagi_s001_0001\""
      ],
      "metadata": {
        "id": "ktBa0qst_IWA",
        "outputId": "78b6f905-d4b8-431a-c931-c65e8a7380c9",
        "colab": {
          "base_uri": "https://localhost:8080/"
        }
      },
      "execution_count": 29,
      "outputs": [
        {
          "output_type": "execute_result",
          "data": {
            "text/plain": [
              "'2025x03x26_E4KI_F_P163_sagi_s001_0001'"
            ]
          },
          "metadata": {},
          "execution_count": 29
        }
      ]
    },
    {
      "cell_type": "code",
      "source": [
        "def convert(file_path):\n",
        "\n",
        "    file_path = file_path.replace('_sagi_','_sagi_S')\n",
        "    # file_path = file_path.replace('2025x03x19','2025x03x24')\n",
        "    return file_path\n",
        "file_conversion_dict = {f:convert(f) for f in file_list}\n",
        "print('Proposed Changes')\n",
        "display(file_conversion_dict)"
      ],
      "metadata": {
        "colab": {
          "base_uri": "https://localhost:8080/",
          "height": 405
        },
        "id": "abghmV_JEzUl",
        "outputId": "c4e0e14a-c558-45e4-f569-c054797131c6"
      },
      "execution_count": 30,
      "outputs": [
        {
          "output_type": "stream",
          "name": "stdout",
          "text": [
            "Proposed Changes\n"
          ]
        },
        {
          "output_type": "display_data",
          "data": {
            "text/plain": [
              "{'.\\\\2025x03x21_E3KI_F_P160_sagi_S001_0000.abf': '.\\\\2025x03x21_E3KI_F_P160_sagi_SS001_0000.abf',\n",
              " '.\\\\2025x03x21_E3KI_F_P160_sagi_S001_0001.abf': '.\\\\2025x03x21_E3KI_F_P160_sagi_SS001_0001.abf',\n",
              " '.\\\\2025x03x21_E3KI_F_P160_sagi_S001_0002.abf': '.\\\\2025x03x21_E3KI_F_P160_sagi_SS001_0002.abf',\n",
              " '.\\\\2025x03x21_E3KI_F_P160_sagi_S001_0003.abf': '.\\\\2025x03x21_E3KI_F_P160_sagi_SS001_0003.abf',\n",
              " '.\\\\2025x03x21_E3KI_F_P160_sagi_S001_0004.abf': '.\\\\2025x03x21_E3KI_F_P160_sagi_SS001_0004.abf',\n",
              " '.\\\\2025x03x21_E3KI_F_P160_sagi_S001_0005.abf': '.\\\\2025x03x21_E3KI_F_P160_sagi_SS001_0005.abf',\n",
              " '.\\\\2025x03x21_E3KI_F_P160_sagi_S001_0006.abf': '.\\\\2025x03x21_E3KI_F_P160_sagi_SS001_0006.abf',\n",
              " '.\\\\2025x03x21_E3KI_F_P160_sagi_S001_0007.abf': '.\\\\2025x03x21_E3KI_F_P160_sagi_SS001_0007.abf',\n",
              " '.\\\\2025x03x21_E3KI_F_P160_sagi_S001_0008.abf': '.\\\\2025x03x21_E3KI_F_P160_sagi_SS001_0008.abf',\n",
              " '.\\\\2025x03x21_E3KI_F_P160_sagi_S001_0009.abf': '.\\\\2025x03x21_E3KI_F_P160_sagi_SS001_0009.abf',\n",
              " '.\\\\2025x03x21_E3KI_F_P160_sagi_S001_0010.abf': '.\\\\2025x03x21_E3KI_F_P160_sagi_SS001_0010.abf',\n",
              " '.\\\\2025x03x21_E3KI_F_P160_sagi_S002_0000.abf': '.\\\\2025x03x21_E3KI_F_P160_sagi_SS002_0000.abf',\n",
              " '.\\\\2025x03x21_E3KI_F_P160_sagi_S002_0001.abf': '.\\\\2025x03x21_E3KI_F_P160_sagi_SS002_0001.abf',\n",
              " '.\\\\2025x03x21_E3KI_F_P160_sagi_S002_0002.abf': '.\\\\2025x03x21_E3KI_F_P160_sagi_SS002_0002.abf',\n",
              " '.\\\\2025x03x21_E3KI_F_P160_sagi_S002_0003.abf': '.\\\\2025x03x21_E3KI_F_P160_sagi_SS002_0003.abf',\n",
              " '.\\\\2025x03x21_E3KI_F_P160_sagi_S002_0004.abf': '.\\\\2025x03x21_E3KI_F_P160_sagi_SS002_0004.abf',\n",
              " '.\\\\2025x03x21_E3KI_F_P160_sagi_S002_0005.abf': '.\\\\2025x03x21_E3KI_F_P160_sagi_SS002_0005.abf',\n",
              " '.\\\\2025x03x21_E3KI_F_P160_sagi_S002_0006.abf': '.\\\\2025x03x21_E3KI_F_P160_sagi_SS002_0006.abf',\n",
              " '.\\\\2025x03x21_E3KI_F_P160_sagi_S002_0007.abf': '.\\\\2025x03x21_E3KI_F_P160_sagi_SS002_0007.abf',\n",
              " '.\\\\2025x03x21_E3KI_F_P160_sagi_S002_0008.abf': '.\\\\2025x03x21_E3KI_F_P160_sagi_SS002_0008.abf'}"
            ]
          },
          "metadata": {}
        }
      ]
    },
    {
      "cell_type": "code",
      "source": [
        "cwd = os.getcwd()\n",
        "print(cwd)\n",
        "dest_dir = '.\\_NameCorrectionConsolidation'\n",
        "os.makedirs(dest_dir,exist_ok=True)"
      ],
      "metadata": {
        "id": "LVvePFHxSeVy",
        "outputId": "5be636f8-7a58-422b-aace-868b5a6e21f6",
        "colab": {
          "base_uri": "https://localhost:8080/"
        }
      },
      "execution_count": 31,
      "outputs": [
        {
          "output_type": "stream",
          "name": "stdout",
          "text": [
            "C:\\Users\\dennis.tabuena\\Gladstone Dropbox\\Dennis Tabuena\\_Colab_OutBox\\For Yoshi\\2HG\\Recs\\2025x03x21_\n"
          ]
        }
      ]
    },
    {
      "cell_type": "code",
      "source": [
        "for src, dst in file_conversion_dict.items():\n",
        "    src = os.path.join(cwd,src[2:])\n",
        "    dst = os.path.join(dest_dir,dst[2:])\n",
        "    # dst = os.path.join('.',dest_dir,dst[2:])\n",
        "\n",
        "    print(src)\n",
        "    print(dst)\n",
        "    new_dir = os.path.split(dst)[0]\n",
        "    print(new_dir)\n",
        "    if not os.path.exists(new_dir):\n",
        "        os.makedirs(new_dir)\n",
        "    shutil.copy2(src, dst)\n",
        "\n"
      ],
      "metadata": {
        "colab": {
          "base_uri": "https://localhost:8080/"
        },
        "id": "BOnwwujKGe5Q",
        "outputId": "568e195a-d151-4382-ac0a-de508e757a7c"
      },
      "execution_count": 32,
      "outputs": [
        {
          "output_type": "stream",
          "name": "stdout",
          "text": [
            "C:\\Users\\dennis.tabuena\\Gladstone Dropbox\\Dennis Tabuena\\_Colab_OutBox\\For Yoshi\\2HG\\Recs\\2025x03x21_\\2025x03x21_E3KI_F_P160_sagi_S001_0000.abf\n",
            ".\\_NameCorrectionConsolidation\\2025x03x21_E3KI_F_P160_sagi_SS001_0000.abf\n",
            ".\\_NameCorrectionConsolidation\n",
            "C:\\Users\\dennis.tabuena\\Gladstone Dropbox\\Dennis Tabuena\\_Colab_OutBox\\For Yoshi\\2HG\\Recs\\2025x03x21_\\2025x03x21_E3KI_F_P160_sagi_S001_0001.abf\n",
            ".\\_NameCorrectionConsolidation\\2025x03x21_E3KI_F_P160_sagi_SS001_0001.abf\n",
            ".\\_NameCorrectionConsolidation\n",
            "C:\\Users\\dennis.tabuena\\Gladstone Dropbox\\Dennis Tabuena\\_Colab_OutBox\\For Yoshi\\2HG\\Recs\\2025x03x21_\\2025x03x21_E3KI_F_P160_sagi_S001_0002.abf\n",
            ".\\_NameCorrectionConsolidation\\2025x03x21_E3KI_F_P160_sagi_SS001_0002.abf\n",
            ".\\_NameCorrectionConsolidation\n",
            "C:\\Users\\dennis.tabuena\\Gladstone Dropbox\\Dennis Tabuena\\_Colab_OutBox\\For Yoshi\\2HG\\Recs\\2025x03x21_\\2025x03x21_E3KI_F_P160_sagi_S001_0003.abf\n",
            ".\\_NameCorrectionConsolidation\\2025x03x21_E3KI_F_P160_sagi_SS001_0003.abf\n",
            ".\\_NameCorrectionConsolidation\n",
            "C:\\Users\\dennis.tabuena\\Gladstone Dropbox\\Dennis Tabuena\\_Colab_OutBox\\For Yoshi\\2HG\\Recs\\2025x03x21_\\2025x03x21_E3KI_F_P160_sagi_S001_0004.abf\n",
            ".\\_NameCorrectionConsolidation\\2025x03x21_E3KI_F_P160_sagi_SS001_0004.abf\n",
            ".\\_NameCorrectionConsolidation\n",
            "C:\\Users\\dennis.tabuena\\Gladstone Dropbox\\Dennis Tabuena\\_Colab_OutBox\\For Yoshi\\2HG\\Recs\\2025x03x21_\\2025x03x21_E3KI_F_P160_sagi_S001_0005.abf\n",
            ".\\_NameCorrectionConsolidation\\2025x03x21_E3KI_F_P160_sagi_SS001_0005.abf\n",
            ".\\_NameCorrectionConsolidation\n",
            "C:\\Users\\dennis.tabuena\\Gladstone Dropbox\\Dennis Tabuena\\_Colab_OutBox\\For Yoshi\\2HG\\Recs\\2025x03x21_\\2025x03x21_E3KI_F_P160_sagi_S001_0006.abf\n",
            ".\\_NameCorrectionConsolidation\\2025x03x21_E3KI_F_P160_sagi_SS001_0006.abf\n",
            ".\\_NameCorrectionConsolidation\n",
            "C:\\Users\\dennis.tabuena\\Gladstone Dropbox\\Dennis Tabuena\\_Colab_OutBox\\For Yoshi\\2HG\\Recs\\2025x03x21_\\2025x03x21_E3KI_F_P160_sagi_S001_0007.abf\n",
            ".\\_NameCorrectionConsolidation\\2025x03x21_E3KI_F_P160_sagi_SS001_0007.abf\n",
            ".\\_NameCorrectionConsolidation\n",
            "C:\\Users\\dennis.tabuena\\Gladstone Dropbox\\Dennis Tabuena\\_Colab_OutBox\\For Yoshi\\2HG\\Recs\\2025x03x21_\\2025x03x21_E3KI_F_P160_sagi_S001_0008.abf\n",
            ".\\_NameCorrectionConsolidation\\2025x03x21_E3KI_F_P160_sagi_SS001_0008.abf\n",
            ".\\_NameCorrectionConsolidation\n",
            "C:\\Users\\dennis.tabuena\\Gladstone Dropbox\\Dennis Tabuena\\_Colab_OutBox\\For Yoshi\\2HG\\Recs\\2025x03x21_\\2025x03x21_E3KI_F_P160_sagi_S001_0009.abf\n",
            ".\\_NameCorrectionConsolidation\\2025x03x21_E3KI_F_P160_sagi_SS001_0009.abf\n",
            ".\\_NameCorrectionConsolidation\n",
            "C:\\Users\\dennis.tabuena\\Gladstone Dropbox\\Dennis Tabuena\\_Colab_OutBox\\For Yoshi\\2HG\\Recs\\2025x03x21_\\2025x03x21_E3KI_F_P160_sagi_S001_0010.abf\n",
            ".\\_NameCorrectionConsolidation\\2025x03x21_E3KI_F_P160_sagi_SS001_0010.abf\n",
            ".\\_NameCorrectionConsolidation\n",
            "C:\\Users\\dennis.tabuena\\Gladstone Dropbox\\Dennis Tabuena\\_Colab_OutBox\\For Yoshi\\2HG\\Recs\\2025x03x21_\\2025x03x21_E3KI_F_P160_sagi_S002_0000.abf\n",
            ".\\_NameCorrectionConsolidation\\2025x03x21_E3KI_F_P160_sagi_SS002_0000.abf\n",
            ".\\_NameCorrectionConsolidation\n",
            "C:\\Users\\dennis.tabuena\\Gladstone Dropbox\\Dennis Tabuena\\_Colab_OutBox\\For Yoshi\\2HG\\Recs\\2025x03x21_\\2025x03x21_E3KI_F_P160_sagi_S002_0001.abf\n",
            ".\\_NameCorrectionConsolidation\\2025x03x21_E3KI_F_P160_sagi_SS002_0001.abf\n",
            ".\\_NameCorrectionConsolidation\n",
            "C:\\Users\\dennis.tabuena\\Gladstone Dropbox\\Dennis Tabuena\\_Colab_OutBox\\For Yoshi\\2HG\\Recs\\2025x03x21_\\2025x03x21_E3KI_F_P160_sagi_S002_0002.abf\n",
            ".\\_NameCorrectionConsolidation\\2025x03x21_E3KI_F_P160_sagi_SS002_0002.abf\n",
            ".\\_NameCorrectionConsolidation\n",
            "C:\\Users\\dennis.tabuena\\Gladstone Dropbox\\Dennis Tabuena\\_Colab_OutBox\\For Yoshi\\2HG\\Recs\\2025x03x21_\\2025x03x21_E3KI_F_P160_sagi_S002_0003.abf\n",
            ".\\_NameCorrectionConsolidation\\2025x03x21_E3KI_F_P160_sagi_SS002_0003.abf\n",
            ".\\_NameCorrectionConsolidation\n",
            "C:\\Users\\dennis.tabuena\\Gladstone Dropbox\\Dennis Tabuena\\_Colab_OutBox\\For Yoshi\\2HG\\Recs\\2025x03x21_\\2025x03x21_E3KI_F_P160_sagi_S002_0004.abf\n",
            ".\\_NameCorrectionConsolidation\\2025x03x21_E3KI_F_P160_sagi_SS002_0004.abf\n",
            ".\\_NameCorrectionConsolidation\n",
            "C:\\Users\\dennis.tabuena\\Gladstone Dropbox\\Dennis Tabuena\\_Colab_OutBox\\For Yoshi\\2HG\\Recs\\2025x03x21_\\2025x03x21_E3KI_F_P160_sagi_S002_0005.abf\n",
            ".\\_NameCorrectionConsolidation\\2025x03x21_E3KI_F_P160_sagi_SS002_0005.abf\n",
            ".\\_NameCorrectionConsolidation\n",
            "C:\\Users\\dennis.tabuena\\Gladstone Dropbox\\Dennis Tabuena\\_Colab_OutBox\\For Yoshi\\2HG\\Recs\\2025x03x21_\\2025x03x21_E3KI_F_P160_sagi_S002_0006.abf\n",
            ".\\_NameCorrectionConsolidation\\2025x03x21_E3KI_F_P160_sagi_SS002_0006.abf\n",
            ".\\_NameCorrectionConsolidation\n",
            "C:\\Users\\dennis.tabuena\\Gladstone Dropbox\\Dennis Tabuena\\_Colab_OutBox\\For Yoshi\\2HG\\Recs\\2025x03x21_\\2025x03x21_E3KI_F_P160_sagi_S002_0007.abf\n",
            ".\\_NameCorrectionConsolidation\\2025x03x21_E3KI_F_P160_sagi_SS002_0007.abf\n",
            ".\\_NameCorrectionConsolidation\n",
            "C:\\Users\\dennis.tabuena\\Gladstone Dropbox\\Dennis Tabuena\\_Colab_OutBox\\For Yoshi\\2HG\\Recs\\2025x03x21_\\2025x03x21_E3KI_F_P160_sagi_S002_0008.abf\n",
            ".\\_NameCorrectionConsolidation\\2025x03x21_E3KI_F_P160_sagi_SS002_0008.abf\n",
            ".\\_NameCorrectionConsolidation\n"
          ]
        }
      ]
    }
  ]
}