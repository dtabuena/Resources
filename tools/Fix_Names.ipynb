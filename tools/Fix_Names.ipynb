{
  "nbformat": 4,
  "nbformat_minor": 0,
  "metadata": {
    "colab": {
      "provenance": [],
      "authorship_tag": "ABX9TyOrV/FWKRaGvGtcKBgPxBXs",
      "include_colab_link": true
    },
    "kernelspec": {
      "name": "python3",
      "display_name": "Python 3"
    },
    "language_info": {
      "name": "python"
    }
  },
  "cells": [
    {
      "cell_type": "markdown",
      "metadata": {
        "id": "view-in-github",
        "colab_type": "text"
      },
      "source": [
        "<a href=\"https://colab.research.google.com/github/dtabuena/Resources/blob/main/tools/Fix_Names.ipynb\" target=\"_parent\"><img src=\"https://colab.research.google.com/assets/colab-badge.svg\" alt=\"Open In Colab\"/></a>"
      ]
    },
    {
      "cell_type": "code",
      "execution_count": 1,
      "metadata": {
        "id": "Kjux4a0J9MOD"
      },
      "outputs": [],
      "source": [
        "import os\n",
        "import pandas as pd\n",
        "import shutil\n",
        "\n"
      ]
    },
    {
      "cell_type": "code",
      "source": [
        "source_dir = r\"C:\\Users\\dennis.tabuena\\Gladstone Dropbox\\Dennis Tabuena\\6_Recordings\\Today\"\n",
        "print(source_dir)"
      ],
      "metadata": {
        "colab": {
          "base_uri": "https://localhost:8080/"
        },
        "id": "GxZyLCoL9Pmn",
        "outputId": "c8780bc7-f749-4b5c-fd76-0ae2850decf6"
      },
      "execution_count": 2,
      "outputs": [
        {
          "output_type": "stream",
          "name": "stdout",
          "text": [
            "C:\\Users\\dennis.tabuena\\Gladstone Dropbox\\Dennis Tabuena\\6_Recordings\\Today\n"
          ]
        }
      ]
    },
    {
      "cell_type": "code",
      "source": [
        "os.chdir(source_dir)\n",
        "file_list =list()\n",
        "\n",
        "\n",
        "for root, dirs, files in os.walk(\".\", topdown=False):\n",
        "    for file in files:\n",
        "        file_list.append(os.path.join(root,file))\n",
        "print(file_list)\n",
        "\n"
      ],
      "metadata": {
        "id": "LgT3tR3g-Fth",
        "colab": {
          "base_uri": "https://localhost:8080/"
        },
        "outputId": "ae8bcbde-8d90-44b5-f1b8-cb8f8a17f94e"
      },
      "execution_count": 3,
      "outputs": [
        {
          "output_type": "stream",
          "name": "stdout",
          "text": [
            "['.\\\\2025x03x19_PreOA_S2_0000.abf', '.\\\\2025x03x19_PreOA_S2_0001.abf', '.\\\\2025x03x19_PreOA_S2_0002.abf', '.\\\\2025x03x19_PreOA_S2_0003.abf', '.\\\\2025x03x19_PreOA_S2_0004.abf', '.\\\\2025x03x19_PreOA_S2_0005.abf', '.\\\\2025x03x19_PreOA_S2_0006.abf', '.\\\\2025x03x19_PreOA_S2_0007.abf', '.\\\\2025x03x19_PreOA_S2_0008.abf', '.\\\\2025x03x19_PreOA_S2_0009.abf', '.\\\\2025x03x19_PreOA_S2_0010.abf', '.\\\\2025x03x19_PreOA_S2_0011.abf', '.\\\\2025x03x19_PreOA_S2_0012.abf', '.\\\\2025x03x24_PreOA_S1_0000_0000.abf', '.\\\\2025x03x24_PreOA_S1_0000_0001.abf', '.\\\\2025x03x24_PreOA_S1_0000_0002.abf', '.\\\\2025x03x24_PreOA_S1_0000_0003.abf', '.\\\\2025x03x24_PreOA_S1_0000_0004.abf', '.\\\\2025x03x24_PreOA_S1_0000_0005.abf', '.\\\\2025x03x24_PreOA_S1_0000_0006.abf', '.\\\\2025x03x24_PreOA_S1_0000_0007.abf', '.\\\\2025x03x24_PreOA_S1_0000_0008.abf', '.\\\\2025x03x24_PreOA_S1_0000_0009.abf', '.\\\\2025x03x24_PreOA_S1_0000_0010.abf', '.\\\\2025x03x24_PreOA_S1_0000_0011.abf', '.\\\\2025x03x24_PreOA_S1_0000_0012.abf', '.\\\\2025x03x24_PreOA_S1_0000_0013.abf', '.\\\\2025x03x24_PreOA_S1_0000_0014.abf', '.\\\\2025x03x24_PreOA_S1_0000_0015.abf', '.\\\\2025x03x24_PreOA_S1_0000_0016.abf', '.\\\\2025x03x24_PreOA_S1_0000_0017.abf', '.\\\\2025x03x24_PreOA_S1_0000_0018.abf', '.\\\\2025x03x24_PreOA_S1_0000_0019.abf', '.\\\\2025x03x24_PreOA_S1_0000_0020.abf', '.\\\\2025x03x24_PreOA_S1_0000_0021.abf', '.\\\\2025x03x24_PreOA_S1_0000_0022.abf', '.\\\\old.zip']\n"
          ]
        }
      ]
    },
    {
      "cell_type": "code",
      "source": [
        "def convert(file_path):\n",
        "    file_path = file_path.replace('_0000_','_')\n",
        "    file_path = file_path.replace('2025x03x19','2025x03x24')\n",
        "    return file_path\n",
        "file_conversion_dict = {f:convert(f) for f in file_list}\n",
        "print('Proposed Changes')\n",
        "display(file_conversion_dict)"
      ],
      "metadata": {
        "colab": {
          "base_uri": "https://localhost:8080/",
          "height": 676
        },
        "id": "abghmV_JEzUl",
        "outputId": "dffd5809-aaac-49bd-c299-5a354956c558"
      },
      "execution_count": 7,
      "outputs": [
        {
          "output_type": "stream",
          "name": "stdout",
          "text": [
            "Proposed Changes\n"
          ]
        },
        {
          "output_type": "display_data",
          "data": {
            "text/plain": [
              "{'.\\\\2025x03x19_PreOA_S2_0000.abf': '.\\\\2025x03x24_PreOA_S2_0000.abf',\n",
              " '.\\\\2025x03x19_PreOA_S2_0001.abf': '.\\\\2025x03x24_PreOA_S2_0001.abf',\n",
              " '.\\\\2025x03x19_PreOA_S2_0002.abf': '.\\\\2025x03x24_PreOA_S2_0002.abf',\n",
              " '.\\\\2025x03x19_PreOA_S2_0003.abf': '.\\\\2025x03x24_PreOA_S2_0003.abf',\n",
              " '.\\\\2025x03x19_PreOA_S2_0004.abf': '.\\\\2025x03x24_PreOA_S2_0004.abf',\n",
              " '.\\\\2025x03x19_PreOA_S2_0005.abf': '.\\\\2025x03x24_PreOA_S2_0005.abf',\n",
              " '.\\\\2025x03x19_PreOA_S2_0006.abf': '.\\\\2025x03x24_PreOA_S2_0006.abf',\n",
              " '.\\\\2025x03x19_PreOA_S2_0007.abf': '.\\\\2025x03x24_PreOA_S2_0007.abf',\n",
              " '.\\\\2025x03x19_PreOA_S2_0008.abf': '.\\\\2025x03x24_PreOA_S2_0008.abf',\n",
              " '.\\\\2025x03x19_PreOA_S2_0009.abf': '.\\\\2025x03x24_PreOA_S2_0009.abf',\n",
              " '.\\\\2025x03x19_PreOA_S2_0010.abf': '.\\\\2025x03x24_PreOA_S2_0010.abf',\n",
              " '.\\\\2025x03x19_PreOA_S2_0011.abf': '.\\\\2025x03x24_PreOA_S2_0011.abf',\n",
              " '.\\\\2025x03x19_PreOA_S2_0012.abf': '.\\\\2025x03x24_PreOA_S2_0012.abf',\n",
              " '.\\\\2025x03x24_PreOA_S1_0000_0000.abf': '.\\\\2025x03x24_PreOA_S1_0000.abf',\n",
              " '.\\\\2025x03x24_PreOA_S1_0000_0001.abf': '.\\\\2025x03x24_PreOA_S1_0001.abf',\n",
              " '.\\\\2025x03x24_PreOA_S1_0000_0002.abf': '.\\\\2025x03x24_PreOA_S1_0002.abf',\n",
              " '.\\\\2025x03x24_PreOA_S1_0000_0003.abf': '.\\\\2025x03x24_PreOA_S1_0003.abf',\n",
              " '.\\\\2025x03x24_PreOA_S1_0000_0004.abf': '.\\\\2025x03x24_PreOA_S1_0004.abf',\n",
              " '.\\\\2025x03x24_PreOA_S1_0000_0005.abf': '.\\\\2025x03x24_PreOA_S1_0005.abf',\n",
              " '.\\\\2025x03x24_PreOA_S1_0000_0006.abf': '.\\\\2025x03x24_PreOA_S1_0006.abf',\n",
              " '.\\\\2025x03x24_PreOA_S1_0000_0007.abf': '.\\\\2025x03x24_PreOA_S1_0007.abf',\n",
              " '.\\\\2025x03x24_PreOA_S1_0000_0008.abf': '.\\\\2025x03x24_PreOA_S1_0008.abf',\n",
              " '.\\\\2025x03x24_PreOA_S1_0000_0009.abf': '.\\\\2025x03x24_PreOA_S1_0009.abf',\n",
              " '.\\\\2025x03x24_PreOA_S1_0000_0010.abf': '.\\\\2025x03x24_PreOA_S1_0010.abf',\n",
              " '.\\\\2025x03x24_PreOA_S1_0000_0011.abf': '.\\\\2025x03x24_PreOA_S1_0011.abf',\n",
              " '.\\\\2025x03x24_PreOA_S1_0000_0012.abf': '.\\\\2025x03x24_PreOA_S1_0012.abf',\n",
              " '.\\\\2025x03x24_PreOA_S1_0000_0013.abf': '.\\\\2025x03x24_PreOA_S1_0013.abf',\n",
              " '.\\\\2025x03x24_PreOA_S1_0000_0014.abf': '.\\\\2025x03x24_PreOA_S1_0014.abf',\n",
              " '.\\\\2025x03x24_PreOA_S1_0000_0015.abf': '.\\\\2025x03x24_PreOA_S1_0015.abf',\n",
              " '.\\\\2025x03x24_PreOA_S1_0000_0016.abf': '.\\\\2025x03x24_PreOA_S1_0016.abf',\n",
              " '.\\\\2025x03x24_PreOA_S1_0000_0017.abf': '.\\\\2025x03x24_PreOA_S1_0017.abf',\n",
              " '.\\\\2025x03x24_PreOA_S1_0000_0018.abf': '.\\\\2025x03x24_PreOA_S1_0018.abf',\n",
              " '.\\\\2025x03x24_PreOA_S1_0000_0019.abf': '.\\\\2025x03x24_PreOA_S1_0019.abf',\n",
              " '.\\\\2025x03x24_PreOA_S1_0000_0020.abf': '.\\\\2025x03x24_PreOA_S1_0020.abf',\n",
              " '.\\\\2025x03x24_PreOA_S1_0000_0021.abf': '.\\\\2025x03x24_PreOA_S1_0021.abf',\n",
              " '.\\\\2025x03x24_PreOA_S1_0000_0022.abf': '.\\\\2025x03x24_PreOA_S1_0022.abf',\n",
              " '.\\\\old.zip': '.\\\\old.zip'}"
            ]
          },
          "metadata": {}
        }
      ]
    },
    {
      "cell_type": "code",
      "source": [
        "cwd = os.getcwd()\n",
        "print(cwd)\n",
        "dest_dir = '.\\_NameCorrectionConsolidation'\n",
        "os.makedirs(dest_dir,exist_ok=True)"
      ],
      "metadata": {
        "id": "LVvePFHxSeVy",
        "outputId": "14e6a83a-8960-4979-f0c0-42a4e95f6480",
        "colab": {
          "base_uri": "https://localhost:8080/"
        }
      },
      "execution_count": 9,
      "outputs": [
        {
          "output_type": "stream",
          "name": "stdout",
          "text": [
            "C:\\Users\\dennis.tabuena\\Gladstone Dropbox\\Dennis Tabuena\\6_Recordings\\Today\n"
          ]
        }
      ]
    },
    {
      "cell_type": "code",
      "source": [
        "for src, dst in file_conversion_dict.items():\n",
        "    src = os.path.join(cwd,src[2:])\n",
        "    dst = os.path.join(dest_dir,dst[2:])\n",
        "    # dst = os.path.join('.',dest_dir,dst[2:])\n",
        "\n",
        "    print(src)\n",
        "    print(dst)\n",
        "    new_dir = os.path.split(dst)[0]\n",
        "    print(new_dir)\n",
        "    if not os.path.exists(new_dir):\n",
        "        os.makedirs(new_dir)\n",
        "    shutil.copy2(src, dst)\n",
        "\n"
      ],
      "metadata": {
        "colab": {
          "base_uri": "https://localhost:8080/"
        },
        "id": "BOnwwujKGe5Q",
        "outputId": "7bd78410-11dd-4e5c-fa5c-87d10326631f"
      },
      "execution_count": 10,
      "outputs": [
        {
          "output_type": "stream",
          "name": "stdout",
          "text": [
            "C:\\Users\\dennis.tabuena\\Gladstone Dropbox\\Dennis Tabuena\\6_Recordings\\Today\\2025x03x19_PreOA_S2_0000.abf\n",
            ".\\_NameCorrectionConsolidation\\2025x03x24_PreOA_S2_0000.abf\n",
            ".\\_NameCorrectionConsolidation\n",
            "C:\\Users\\dennis.tabuena\\Gladstone Dropbox\\Dennis Tabuena\\6_Recordings\\Today\\2025x03x19_PreOA_S2_0001.abf\n",
            ".\\_NameCorrectionConsolidation\\2025x03x24_PreOA_S2_0001.abf\n",
            ".\\_NameCorrectionConsolidation\n",
            "C:\\Users\\dennis.tabuena\\Gladstone Dropbox\\Dennis Tabuena\\6_Recordings\\Today\\2025x03x19_PreOA_S2_0002.abf\n",
            ".\\_NameCorrectionConsolidation\\2025x03x24_PreOA_S2_0002.abf\n",
            ".\\_NameCorrectionConsolidation\n",
            "C:\\Users\\dennis.tabuena\\Gladstone Dropbox\\Dennis Tabuena\\6_Recordings\\Today\\2025x03x19_PreOA_S2_0003.abf\n",
            ".\\_NameCorrectionConsolidation\\2025x03x24_PreOA_S2_0003.abf\n",
            ".\\_NameCorrectionConsolidation\n",
            "C:\\Users\\dennis.tabuena\\Gladstone Dropbox\\Dennis Tabuena\\6_Recordings\\Today\\2025x03x19_PreOA_S2_0004.abf\n",
            ".\\_NameCorrectionConsolidation\\2025x03x24_PreOA_S2_0004.abf\n",
            ".\\_NameCorrectionConsolidation\n",
            "C:\\Users\\dennis.tabuena\\Gladstone Dropbox\\Dennis Tabuena\\6_Recordings\\Today\\2025x03x19_PreOA_S2_0005.abf\n",
            ".\\_NameCorrectionConsolidation\\2025x03x24_PreOA_S2_0005.abf\n",
            ".\\_NameCorrectionConsolidation\n",
            "C:\\Users\\dennis.tabuena\\Gladstone Dropbox\\Dennis Tabuena\\6_Recordings\\Today\\2025x03x19_PreOA_S2_0006.abf\n",
            ".\\_NameCorrectionConsolidation\\2025x03x24_PreOA_S2_0006.abf\n",
            ".\\_NameCorrectionConsolidation\n",
            "C:\\Users\\dennis.tabuena\\Gladstone Dropbox\\Dennis Tabuena\\6_Recordings\\Today\\2025x03x19_PreOA_S2_0007.abf\n",
            ".\\_NameCorrectionConsolidation\\2025x03x24_PreOA_S2_0007.abf\n",
            ".\\_NameCorrectionConsolidation\n",
            "C:\\Users\\dennis.tabuena\\Gladstone Dropbox\\Dennis Tabuena\\6_Recordings\\Today\\2025x03x19_PreOA_S2_0008.abf\n",
            ".\\_NameCorrectionConsolidation\\2025x03x24_PreOA_S2_0008.abf\n",
            ".\\_NameCorrectionConsolidation\n",
            "C:\\Users\\dennis.tabuena\\Gladstone Dropbox\\Dennis Tabuena\\6_Recordings\\Today\\2025x03x19_PreOA_S2_0009.abf\n",
            ".\\_NameCorrectionConsolidation\\2025x03x24_PreOA_S2_0009.abf\n",
            ".\\_NameCorrectionConsolidation\n",
            "C:\\Users\\dennis.tabuena\\Gladstone Dropbox\\Dennis Tabuena\\6_Recordings\\Today\\2025x03x19_PreOA_S2_0010.abf\n",
            ".\\_NameCorrectionConsolidation\\2025x03x24_PreOA_S2_0010.abf\n",
            ".\\_NameCorrectionConsolidation\n",
            "C:\\Users\\dennis.tabuena\\Gladstone Dropbox\\Dennis Tabuena\\6_Recordings\\Today\\2025x03x19_PreOA_S2_0011.abf\n",
            ".\\_NameCorrectionConsolidation\\2025x03x24_PreOA_S2_0011.abf\n",
            ".\\_NameCorrectionConsolidation\n",
            "C:\\Users\\dennis.tabuena\\Gladstone Dropbox\\Dennis Tabuena\\6_Recordings\\Today\\2025x03x19_PreOA_S2_0012.abf\n",
            ".\\_NameCorrectionConsolidation\\2025x03x24_PreOA_S2_0012.abf\n",
            ".\\_NameCorrectionConsolidation\n",
            "C:\\Users\\dennis.tabuena\\Gladstone Dropbox\\Dennis Tabuena\\6_Recordings\\Today\\2025x03x24_PreOA_S1_0000_0000.abf\n",
            ".\\_NameCorrectionConsolidation\\2025x03x24_PreOA_S1_0000.abf\n",
            ".\\_NameCorrectionConsolidation\n",
            "C:\\Users\\dennis.tabuena\\Gladstone Dropbox\\Dennis Tabuena\\6_Recordings\\Today\\2025x03x24_PreOA_S1_0000_0001.abf\n",
            ".\\_NameCorrectionConsolidation\\2025x03x24_PreOA_S1_0001.abf\n",
            ".\\_NameCorrectionConsolidation\n",
            "C:\\Users\\dennis.tabuena\\Gladstone Dropbox\\Dennis Tabuena\\6_Recordings\\Today\\2025x03x24_PreOA_S1_0000_0002.abf\n",
            ".\\_NameCorrectionConsolidation\\2025x03x24_PreOA_S1_0002.abf\n",
            ".\\_NameCorrectionConsolidation\n",
            "C:\\Users\\dennis.tabuena\\Gladstone Dropbox\\Dennis Tabuena\\6_Recordings\\Today\\2025x03x24_PreOA_S1_0000_0003.abf\n",
            ".\\_NameCorrectionConsolidation\\2025x03x24_PreOA_S1_0003.abf\n",
            ".\\_NameCorrectionConsolidation\n",
            "C:\\Users\\dennis.tabuena\\Gladstone Dropbox\\Dennis Tabuena\\6_Recordings\\Today\\2025x03x24_PreOA_S1_0000_0004.abf\n",
            ".\\_NameCorrectionConsolidation\\2025x03x24_PreOA_S1_0004.abf\n",
            ".\\_NameCorrectionConsolidation\n",
            "C:\\Users\\dennis.tabuena\\Gladstone Dropbox\\Dennis Tabuena\\6_Recordings\\Today\\2025x03x24_PreOA_S1_0000_0005.abf\n",
            ".\\_NameCorrectionConsolidation\\2025x03x24_PreOA_S1_0005.abf\n",
            ".\\_NameCorrectionConsolidation\n",
            "C:\\Users\\dennis.tabuena\\Gladstone Dropbox\\Dennis Tabuena\\6_Recordings\\Today\\2025x03x24_PreOA_S1_0000_0006.abf\n",
            ".\\_NameCorrectionConsolidation\\2025x03x24_PreOA_S1_0006.abf\n",
            ".\\_NameCorrectionConsolidation\n",
            "C:\\Users\\dennis.tabuena\\Gladstone Dropbox\\Dennis Tabuena\\6_Recordings\\Today\\2025x03x24_PreOA_S1_0000_0007.abf\n",
            ".\\_NameCorrectionConsolidation\\2025x03x24_PreOA_S1_0007.abf\n",
            ".\\_NameCorrectionConsolidation\n",
            "C:\\Users\\dennis.tabuena\\Gladstone Dropbox\\Dennis Tabuena\\6_Recordings\\Today\\2025x03x24_PreOA_S1_0000_0008.abf\n",
            ".\\_NameCorrectionConsolidation\\2025x03x24_PreOA_S1_0008.abf\n",
            ".\\_NameCorrectionConsolidation\n",
            "C:\\Users\\dennis.tabuena\\Gladstone Dropbox\\Dennis Tabuena\\6_Recordings\\Today\\2025x03x24_PreOA_S1_0000_0009.abf\n",
            ".\\_NameCorrectionConsolidation\\2025x03x24_PreOA_S1_0009.abf\n",
            ".\\_NameCorrectionConsolidation\n",
            "C:\\Users\\dennis.tabuena\\Gladstone Dropbox\\Dennis Tabuena\\6_Recordings\\Today\\2025x03x24_PreOA_S1_0000_0010.abf\n",
            ".\\_NameCorrectionConsolidation\\2025x03x24_PreOA_S1_0010.abf\n",
            ".\\_NameCorrectionConsolidation\n",
            "C:\\Users\\dennis.tabuena\\Gladstone Dropbox\\Dennis Tabuena\\6_Recordings\\Today\\2025x03x24_PreOA_S1_0000_0011.abf\n",
            ".\\_NameCorrectionConsolidation\\2025x03x24_PreOA_S1_0011.abf\n",
            ".\\_NameCorrectionConsolidation\n",
            "C:\\Users\\dennis.tabuena\\Gladstone Dropbox\\Dennis Tabuena\\6_Recordings\\Today\\2025x03x24_PreOA_S1_0000_0012.abf\n",
            ".\\_NameCorrectionConsolidation\\2025x03x24_PreOA_S1_0012.abf\n",
            ".\\_NameCorrectionConsolidation\n",
            "C:\\Users\\dennis.tabuena\\Gladstone Dropbox\\Dennis Tabuena\\6_Recordings\\Today\\2025x03x24_PreOA_S1_0000_0013.abf\n",
            ".\\_NameCorrectionConsolidation\\2025x03x24_PreOA_S1_0013.abf\n",
            ".\\_NameCorrectionConsolidation\n",
            "C:\\Users\\dennis.tabuena\\Gladstone Dropbox\\Dennis Tabuena\\6_Recordings\\Today\\2025x03x24_PreOA_S1_0000_0014.abf\n",
            ".\\_NameCorrectionConsolidation\\2025x03x24_PreOA_S1_0014.abf\n",
            ".\\_NameCorrectionConsolidation\n",
            "C:\\Users\\dennis.tabuena\\Gladstone Dropbox\\Dennis Tabuena\\6_Recordings\\Today\\2025x03x24_PreOA_S1_0000_0015.abf\n",
            ".\\_NameCorrectionConsolidation\\2025x03x24_PreOA_S1_0015.abf\n",
            ".\\_NameCorrectionConsolidation\n",
            "C:\\Users\\dennis.tabuena\\Gladstone Dropbox\\Dennis Tabuena\\6_Recordings\\Today\\2025x03x24_PreOA_S1_0000_0016.abf\n",
            ".\\_NameCorrectionConsolidation\\2025x03x24_PreOA_S1_0016.abf\n",
            ".\\_NameCorrectionConsolidation\n",
            "C:\\Users\\dennis.tabuena\\Gladstone Dropbox\\Dennis Tabuena\\6_Recordings\\Today\\2025x03x24_PreOA_S1_0000_0017.abf\n",
            ".\\_NameCorrectionConsolidation\\2025x03x24_PreOA_S1_0017.abf\n",
            ".\\_NameCorrectionConsolidation\n",
            "C:\\Users\\dennis.tabuena\\Gladstone Dropbox\\Dennis Tabuena\\6_Recordings\\Today\\2025x03x24_PreOA_S1_0000_0018.abf\n",
            ".\\_NameCorrectionConsolidation\\2025x03x24_PreOA_S1_0018.abf\n",
            ".\\_NameCorrectionConsolidation\n",
            "C:\\Users\\dennis.tabuena\\Gladstone Dropbox\\Dennis Tabuena\\6_Recordings\\Today\\2025x03x24_PreOA_S1_0000_0019.abf\n",
            ".\\_NameCorrectionConsolidation\\2025x03x24_PreOA_S1_0019.abf\n",
            ".\\_NameCorrectionConsolidation\n",
            "C:\\Users\\dennis.tabuena\\Gladstone Dropbox\\Dennis Tabuena\\6_Recordings\\Today\\2025x03x24_PreOA_S1_0000_0020.abf\n",
            ".\\_NameCorrectionConsolidation\\2025x03x24_PreOA_S1_0020.abf\n",
            ".\\_NameCorrectionConsolidation\n",
            "C:\\Users\\dennis.tabuena\\Gladstone Dropbox\\Dennis Tabuena\\6_Recordings\\Today\\2025x03x24_PreOA_S1_0000_0021.abf\n",
            ".\\_NameCorrectionConsolidation\\2025x03x24_PreOA_S1_0021.abf\n",
            ".\\_NameCorrectionConsolidation\n",
            "C:\\Users\\dennis.tabuena\\Gladstone Dropbox\\Dennis Tabuena\\6_Recordings\\Today\\2025x03x24_PreOA_S1_0000_0022.abf\n",
            ".\\_NameCorrectionConsolidation\\2025x03x24_PreOA_S1_0022.abf\n",
            ".\\_NameCorrectionConsolidation\n",
            "C:\\Users\\dennis.tabuena\\Gladstone Dropbox\\Dennis Tabuena\\6_Recordings\\Today\\old.zip\n",
            ".\\_NameCorrectionConsolidation\\old.zip\n",
            ".\\_NameCorrectionConsolidation\n"
          ]
        }
      ]
    }
  ]
}