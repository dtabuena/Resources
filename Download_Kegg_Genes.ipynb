{
  "nbformat": 4,
  "nbformat_minor": 0,
  "metadata": {
    "colab": {
      "provenance": [],
      "authorship_tag": "ABX9TyOhw1AyFcJkNNMnecwhR/Ub",
      "include_colab_link": true
    },
    "kernelspec": {
      "name": "ir",
      "display_name": "R"
    },
    "language_info": {
      "name": "R"
    }
  },
  "cells": [
    {
      "cell_type": "markdown",
      "metadata": {
        "id": "view-in-github",
        "colab_type": "text"
      },
      "source": [
        "<a href=\"https://colab.research.google.com/github/dtabuena/Resources/blob/main/Download_Kegg_Genes.ipynb\" target=\"_parent\"><img src=\"https://colab.research.google.com/assets/colab-badge.svg\" alt=\"Open In Colab\"/></a>"
      ]
    },
    {
      "cell_type": "code",
      "execution_count": 2,
      "metadata": {
        "colab": {
          "base_uri": "https://localhost:8080/"
        },
        "id": "ub_1OLpY5zl4",
        "outputId": "facbf288-56e0-4872-8ba8-a4539c8b6f5c"
      },
      "outputs": [
        {
          "output_type": "stream",
          "name": "stderr",
          "text": [
            "'getOption(\"repos\")' replaces Bioconductor standard repositories, see\n",
            "'help(\"repositories\", package = \"BiocManager\")' for details.\n",
            "Replacement repositories:\n",
            "    CRAN: https://cran.rstudio.com\n",
            "\n",
            "Bioconductor version 3.18 (BiocManager 1.30.22), R 4.3.2 (2023-10-31)\n",
            "\n",
            "Warning message:\n",
            "“package(s) not installed when version(s) same as or greater than current; use\n",
            "  `force = TRUE` to re-install: 'KEGGREST'”\n",
            "Old packages: 'bit', 'bslib', 'cpp11', 'curl', 'data.table', 'devtools',\n",
            "  'fansi', 'gargle', 'gert', 'haven', 'highr', 'isoband', 'jsonlite',\n",
            "  'openssl', 'progress', 'ragg', 'roxygen2', 'sass', 'scales', 'svglite',\n",
            "  'testthat', 'textshaping', 'vctrs', 'vroom', 'whisker', 'xml2', 'boot',\n",
            "  'cluster', 'Matrix', 'nlme', 'rpart'\n",
            "\n",
            "'getOption(\"repos\")' replaces Bioconductor standard repositories, see\n",
            "'help(\"repositories\", package = \"BiocManager\")' for details.\n",
            "Replacement repositories:\n",
            "    CRAN: https://cran.rstudio.com\n",
            "\n",
            "Bioconductor version 3.18 (BiocManager 1.30.22), R 4.3.2 (2023-10-31)\n",
            "\n",
            "Warning message:\n",
            "“package(s) not installed when version(s) same as or greater than current; use\n",
            "  `force = TRUE` to re-install: 'EnrichmentBrowser'”\n",
            "Old packages: 'bit', 'bslib', 'cpp11', 'curl', 'data.table', 'devtools',\n",
            "  'fansi', 'gargle', 'gert', 'haven', 'highr', 'isoband', 'jsonlite',\n",
            "  'openssl', 'progress', 'ragg', 'roxygen2', 'sass', 'scales', 'svglite',\n",
            "  'testthat', 'textshaping', 'vctrs', 'vroom', 'whisker', 'xml2', 'boot',\n",
            "  'cluster', 'Matrix', 'nlme', 'rpart'\n",
            "\n"
          ]
        }
      ],
      "source": [
        "if (!requireNamespace(\"BiocManager\", quietly = TRUE))\n",
        "install.packages(\"BiocManager\")\n",
        "BiocManager::install(\"KEGGREST\")\n",
        "BiocManager::install(\"EnrichmentBrowser\")\n",
        "library(\"KEGGREST\")\n",
        "library(\"EnrichmentBrowser\")"
      ]
    },
    {
      "cell_type": "code",
      "source": [
        "organism_id = \"mmu\"\n",
        "\n",
        "klist <- keggList(organism_id)\n",
        "pathway <- downloadPathways(organism_id)\n",
        "\n",
        "org_genes <- getGenesets(org = organism_id, db = \"kegg\", cache = TRUE, return.type=\"list\")\n",
        "\n",
        "\n",
        "gmt_name = paste(date(),\"_kegg_\",organism_id,\".txt\",sep = \"\")\n",
        "writeGMT(org_genes, gmt.file = gmt_name)\n"
      ],
      "metadata": {
        "id": "a5PZ0i5c58Zq"
      },
      "execution_count": 12,
      "outputs": []
    }
  ]
}