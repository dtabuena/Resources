{
  "nbformat": 4,
  "nbformat_minor": 0,
  "metadata": {
    "colab": {
      "provenance": [],
      "authorship_tag": "ABX9TyOxhREvqxZ8gnNLE7WLIXGk",
      "include_colab_link": true
    },
    "kernelspec": {
      "name": "ir",
      "display_name": "R"
    },
    "language_info": {
      "name": "R"
    }
  },
  "cells": [
    {
      "cell_type": "markdown",
      "metadata": {
        "id": "view-in-github",
        "colab_type": "text"
      },
      "source": [
        "<a href=\"https://colab.research.google.com/github/dtabuena/Resources/blob/main/Download_Kegg_Genes.ipynb\" target=\"_parent\"><img src=\"https://colab.research.google.com/assets/colab-badge.svg\" alt=\"Open In Colab\"/></a>"
      ]
    },
    {
      "cell_type": "code",
      "execution_count": 2,
      "metadata": {
        "colab": {
          "base_uri": "https://localhost:8080/"
        },
        "id": "ub_1OLpY5zl4",
        "outputId": "facbf288-56e0-4872-8ba8-a4539c8b6f5c"
      },
      "outputs": [
        {
          "output_type": "stream",
          "name": "stderr",
          "text": [
            "'getOption(\"repos\")' replaces Bioconductor standard repositories, see\n",
            "'help(\"repositories\", package = \"BiocManager\")' for details.\n",
            "Replacement repositories:\n",
            "    CRAN: https://cran.rstudio.com\n",
            "\n",
            "Bioconductor version 3.18 (BiocManager 1.30.22), R 4.3.2 (2023-10-31)\n",
            "\n",
            "Warning message:\n",
            "“package(s) not installed when version(s) same as or greater than current; use\n",
            "  `force = TRUE` to re-install: 'KEGGREST'”\n",
            "Old packages: 'bit', 'bslib', 'cpp11', 'curl', 'data.table', 'devtools',\n",
            "  'fansi', 'gargle', 'gert', 'haven', 'highr', 'isoband', 'jsonlite',\n",
            "  'openssl', 'progress', 'ragg', 'roxygen2', 'sass', 'scales', 'svglite',\n",
            "  'testthat', 'textshaping', 'vctrs', 'vroom', 'whisker', 'xml2', 'boot',\n",
            "  'cluster', 'Matrix', 'nlme', 'rpart'\n",
            "\n",
            "'getOption(\"repos\")' replaces Bioconductor standard repositories, see\n",
            "'help(\"repositories\", package = \"BiocManager\")' for details.\n",
            "Replacement repositories:\n",
            "    CRAN: https://cran.rstudio.com\n",
            "\n",
            "Bioconductor version 3.18 (BiocManager 1.30.22), R 4.3.2 (2023-10-31)\n",
            "\n",
            "Warning message:\n",
            "“package(s) not installed when version(s) same as or greater than current; use\n",
            "  `force = TRUE` to re-install: 'EnrichmentBrowser'”\n",
            "Old packages: 'bit', 'bslib', 'cpp11', 'curl', 'data.table', 'devtools',\n",
            "  'fansi', 'gargle', 'gert', 'haven', 'highr', 'isoband', 'jsonlite',\n",
            "  'openssl', 'progress', 'ragg', 'roxygen2', 'sass', 'scales', 'svglite',\n",
            "  'testthat', 'textshaping', 'vctrs', 'vroom', 'whisker', 'xml2', 'boot',\n",
            "  'cluster', 'Matrix', 'nlme', 'rpart'\n",
            "\n"
          ]
        }
      ],
      "source": [
        "if (!requireNamespace(\"BiocManager\", quietly = TRUE))\n",
        "install.packages(\"BiocManager\")\n",
        "BiocManager::install(\"KEGGREST\")\n",
        "BiocManager::install(\"EnrichmentBrowser\")\n",
        "library(\"KEGGREST\")\n",
        "library(\"EnrichmentBrowser\")"
      ]
    },
    {
      "cell_type": "code",
      "source": [
        "organism_id = \"mmu\"\n",
        "\n",
        "klist <- keggList(organism_id)\n",
        "pathway <- downloadPathways(organism_id)\n",
        "\n",
        "org_genes <- getGenesets(org = organism_id, db = \"kegg\", cache = TRUE, return.type=\"list\")\n",
        "\n",
        "\n",
        "gmt_name = paste(date(),\"_kegg_\",organism_id)\n",
        "writeGMT(org_genes, gmt.file = gmt_name)\n",
        "\n",
        "\n",
        "install.packages(\"R.utils\")\n",
        "library(\"R.utils\")\n",
        "download.file(gmt_name)"
      ],
      "metadata": {
        "colab": {
          "base_uri": "https://localhost:8080/",
          "height": 1000
        },
        "id": "a5PZ0i5c58Zq",
        "outputId": "524a6b77-c211-4109-9214-364bba0e027d"
      },
      "execution_count": 7,
      "outputs": [
        {
          "output_type": "stream",
          "name": "stderr",
          "text": [
            "Installing package into ‘/usr/local/lib/R/site-library’\n",
            "(as ‘lib’ is unspecified)\n",
            "\n",
            "also installing the dependencies ‘R.oo’, ‘R.methodsS3’\n",
            "\n",
            "\n",
            "Loading required package: R.oo\n",
            "\n",
            "Loading required package: R.methodsS3\n",
            "\n",
            "R.methodsS3 v1.8.2 (2022-06-13 22:00:14 UTC) successfully loaded. See ?R.methodsS3 for help.\n",
            "\n",
            "R.oo v1.25.0 (2022-06-12 02:20:02 UTC) successfully loaded. See ?R.oo for help.\n",
            "\n",
            "\n",
            "Attaching package: ‘R.oo’\n",
            "\n",
            "\n",
            "The following object is masked from ‘package:R.methodsS3’:\n",
            "\n",
            "    throw\n",
            "\n",
            "\n",
            "The following object is masked from ‘package:SummarizedExperiment’:\n",
            "\n",
            "    trim\n",
            "\n",
            "\n",
            "The following object is masked from ‘package:GenomicRanges’:\n",
            "\n",
            "    trim\n",
            "\n",
            "\n",
            "The following object is masked from ‘package:IRanges’:\n",
            "\n",
            "    trim\n",
            "\n",
            "\n",
            "The following objects are masked from ‘package:methods’:\n",
            "\n",
            "    getClasses, getMethods\n",
            "\n",
            "\n",
            "The following objects are masked from ‘package:base’:\n",
            "\n",
            "    attach, detach, load, save\n",
            "\n",
            "\n",
            "R.utils v2.12.3 (2023-11-18 01:00:02 UTC) successfully loaded. See ?R.utils for help.\n",
            "\n",
            "\n",
            "Attaching package: ‘R.utils’\n",
            "\n",
            "\n",
            "The following object is masked from ‘package:utils’:\n",
            "\n",
            "    timestamp\n",
            "\n",
            "\n",
            "The following objects are masked from ‘package:base’:\n",
            "\n",
            "    cat, commandArgs, getOption, isOpen, nullfile, parse, warnings\n",
            "\n",
            "\n"
          ]
        },
        {
          "output_type": "error",
          "ename": "ERROR",
          "evalue": "ignored",
          "traceback": [
            "Error in download.file(gmt_name): argument \"destfile\" is missing, with no default\nTraceback:\n",
            "1. download.file(gmt_name)"
          ]
        }
      ]
    },
    {
      "cell_type": "code",
      "source": [],
      "metadata": {
        "id": "mkVq9c7_VnE2"
      },
      "execution_count": null,
      "outputs": []
    }
  ]
}